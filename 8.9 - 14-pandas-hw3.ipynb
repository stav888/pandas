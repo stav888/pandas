{
  "metadata": {
    "kernelspec": {
      "name": "python",
      "display_name": "Python (Pyodide)",
      "language": "python"
    },
    "language_info": {
      "codemirror_mode": {
        "name": "python",
        "version": 3
      },
      "file_extension": ".py",
      "mimetype": "text/x-python",
      "name": "python",
      "nbconvert_exporter": "python",
      "pygments_lexer": "ipython3",
      "version": "3.8"
    }
  },
  "nbformat_minor": 4,
  "nbformat": 4,
  "cells": [
    {
      "cell_type": "code",
      "source": "import pandas as pd",
      "metadata": {
        "trusted": true
      },
      "outputs": [],
      "execution_count": 5
    },
    {
      "cell_type": "code",
      "source": "# 1. load the dataframe from csv/mpg.csv\n\ndf = pd.read_csv('mpg.csv')\ndf.head()",
      "metadata": {
        "trusted": true
      },
      "outputs": [
        {
          "execution_count": 7,
          "output_type": "execute_result",
          "data": {
            "text/plain": "    mpg  cylinders  displacement horsepower  weight  acceleration  model_year  \\\n0  18.0          8         307.0        130    3504          12.0          70   \n1  15.0          8         350.0        165    3693          11.5          70   \n2  18.0          8         318.0        150    3436          11.0          70   \n3  16.0          8         304.0        150    3433          12.0          70   \n4  17.0          8         302.0        140    3449          10.5          70   \n\n   origin                       name  \n0       1  chevrolet chevelle malibu  \n1       1          buick skylark 320  \n2       1         plymouth satellite  \n3       1              amc rebel sst  \n4       1                ford torino  ",
            "text/html": "<div>\n<style scoped>\n    .dataframe tbody tr th:only-of-type {\n        vertical-align: middle;\n    }\n\n    .dataframe tbody tr th {\n        vertical-align: top;\n    }\n\n    .dataframe thead th {\n        text-align: right;\n    }\n</style>\n<table border=\"1\" class=\"dataframe\">\n  <thead>\n    <tr style=\"text-align: right;\">\n      <th></th>\n      <th>mpg</th>\n      <th>cylinders</th>\n      <th>displacement</th>\n      <th>horsepower</th>\n      <th>weight</th>\n      <th>acceleration</th>\n      <th>model_year</th>\n      <th>origin</th>\n      <th>name</th>\n    </tr>\n  </thead>\n  <tbody>\n    <tr>\n      <th>0</th>\n      <td>18.0</td>\n      <td>8</td>\n      <td>307.0</td>\n      <td>130</td>\n      <td>3504</td>\n      <td>12.0</td>\n      <td>70</td>\n      <td>1</td>\n      <td>chevrolet chevelle malibu</td>\n    </tr>\n    <tr>\n      <th>1</th>\n      <td>15.0</td>\n      <td>8</td>\n      <td>350.0</td>\n      <td>165</td>\n      <td>3693</td>\n      <td>11.5</td>\n      <td>70</td>\n      <td>1</td>\n      <td>buick skylark 320</td>\n    </tr>\n    <tr>\n      <th>2</th>\n      <td>18.0</td>\n      <td>8</td>\n      <td>318.0</td>\n      <td>150</td>\n      <td>3436</td>\n      <td>11.0</td>\n      <td>70</td>\n      <td>1</td>\n      <td>plymouth satellite</td>\n    </tr>\n    <tr>\n      <th>3</th>\n      <td>16.0</td>\n      <td>8</td>\n      <td>304.0</td>\n      <td>150</td>\n      <td>3433</td>\n      <td>12.0</td>\n      <td>70</td>\n      <td>1</td>\n      <td>amc rebel sst</td>\n    </tr>\n    <tr>\n      <th>4</th>\n      <td>17.0</td>\n      <td>8</td>\n      <td>302.0</td>\n      <td>140</td>\n      <td>3449</td>\n      <td>10.5</td>\n      <td>70</td>\n      <td>1</td>\n      <td>ford torino</td>\n    </tr>\n  </tbody>\n</table>\n</div>"
          },
          "metadata": {}
        }
      ],
      "execution_count": 7
    },
    {
      "cell_type": "code",
      "source": "# q1.1 sort the dataframe by mpg in ascending order\ndf_mpg_sorted = df.sort_values(by='mpg')\ndf_mpg_sorted.head()",
      "metadata": {
        "trusted": true
      },
      "outputs": [
        {
          "execution_count": 8,
          "output_type": "execute_result",
          "data": {
            "text/plain": "      mpg  cylinders  displacement horsepower  weight  acceleration  \\\n28    9.0          8         304.0        193    4732          18.5   \n25   10.0          8         360.0        215    4615          14.0   \n26   10.0          8         307.0        200    4376          15.0   \n103  11.0          8         400.0        150    4997          14.0   \n124  11.0          8         350.0        180    3664          11.0   \n\n     model_year  origin              name  \n28           70       1          hi 1200d  \n25           70       1         ford f250  \n26           70       1         chevy c20  \n103          73       1  chevrolet impala  \n124          73       1  oldsmobile omega  ",
            "text/html": "<div>\n<style scoped>\n    .dataframe tbody tr th:only-of-type {\n        vertical-align: middle;\n    }\n\n    .dataframe tbody tr th {\n        vertical-align: top;\n    }\n\n    .dataframe thead th {\n        text-align: right;\n    }\n</style>\n<table border=\"1\" class=\"dataframe\">\n  <thead>\n    <tr style=\"text-align: right;\">\n      <th></th>\n      <th>mpg</th>\n      <th>cylinders</th>\n      <th>displacement</th>\n      <th>horsepower</th>\n      <th>weight</th>\n      <th>acceleration</th>\n      <th>model_year</th>\n      <th>origin</th>\n      <th>name</th>\n    </tr>\n  </thead>\n  <tbody>\n    <tr>\n      <th>28</th>\n      <td>9.0</td>\n      <td>8</td>\n      <td>304.0</td>\n      <td>193</td>\n      <td>4732</td>\n      <td>18.5</td>\n      <td>70</td>\n      <td>1</td>\n      <td>hi 1200d</td>\n    </tr>\n    <tr>\n      <th>25</th>\n      <td>10.0</td>\n      <td>8</td>\n      <td>360.0</td>\n      <td>215</td>\n      <td>4615</td>\n      <td>14.0</td>\n      <td>70</td>\n      <td>1</td>\n      <td>ford f250</td>\n    </tr>\n    <tr>\n      <th>26</th>\n      <td>10.0</td>\n      <td>8</td>\n      <td>307.0</td>\n      <td>200</td>\n      <td>4376</td>\n      <td>15.0</td>\n      <td>70</td>\n      <td>1</td>\n      <td>chevy c20</td>\n    </tr>\n    <tr>\n      <th>103</th>\n      <td>11.0</td>\n      <td>8</td>\n      <td>400.0</td>\n      <td>150</td>\n      <td>4997</td>\n      <td>14.0</td>\n      <td>73</td>\n      <td>1</td>\n      <td>chevrolet impala</td>\n    </tr>\n    <tr>\n      <th>124</th>\n      <td>11.0</td>\n      <td>8</td>\n      <td>350.0</td>\n      <td>180</td>\n      <td>3664</td>\n      <td>11.0</td>\n      <td>73</td>\n      <td>1</td>\n      <td>oldsmobile omega</td>\n    </tr>\n  </tbody>\n</table>\n</div>"
          },
          "metadata": {}
        }
      ],
      "execution_count": 8
    },
    {
      "cell_type": "code",
      "source": "# q1.2 sort the dataframe by weight in descending order\nweight_descending = df.sort_values(by='weight', ascending=False)\nweight_descending.head()",
      "metadata": {
        "trusted": true
      },
      "outputs": [
        {
          "execution_count": 33,
          "output_type": "execute_result",
          "data": {
            "text/plain": "      mpg  cylinders  displacement horsepower  weight  acceleration  \\\n44   13.0          8         400.0        175    5140          12.0   \n103  11.0          8         400.0        150    4997          14.0   \n42   12.0          8         383.0        180    4955          11.5   \n90   12.0          8         429.0        198    4952          11.5   \n95   12.0          8         455.0        225    4951          11.0   \n\n     model_year  origin                      name  \n44           71       1       pontiac safari (sw)  \n103          73       1          chevrolet impala  \n42           71       1         dodge monaco (sw)  \n90           73       1  mercury marquis brougham  \n95           73       1  buick electra 225 custom  ",
            "text/html": "<div>\n<style scoped>\n    .dataframe tbody tr th:only-of-type {\n        vertical-align: middle;\n    }\n\n    .dataframe tbody tr th {\n        vertical-align: top;\n    }\n\n    .dataframe thead th {\n        text-align: right;\n    }\n</style>\n<table border=\"1\" class=\"dataframe\">\n  <thead>\n    <tr style=\"text-align: right;\">\n      <th></th>\n      <th>mpg</th>\n      <th>cylinders</th>\n      <th>displacement</th>\n      <th>horsepower</th>\n      <th>weight</th>\n      <th>acceleration</th>\n      <th>model_year</th>\n      <th>origin</th>\n      <th>name</th>\n    </tr>\n  </thead>\n  <tbody>\n    <tr>\n      <th>44</th>\n      <td>13.0</td>\n      <td>8</td>\n      <td>400.0</td>\n      <td>175</td>\n      <td>5140</td>\n      <td>12.0</td>\n      <td>71</td>\n      <td>1</td>\n      <td>pontiac safari (sw)</td>\n    </tr>\n    <tr>\n      <th>103</th>\n      <td>11.0</td>\n      <td>8</td>\n      <td>400.0</td>\n      <td>150</td>\n      <td>4997</td>\n      <td>14.0</td>\n      <td>73</td>\n      <td>1</td>\n      <td>chevrolet impala</td>\n    </tr>\n    <tr>\n      <th>42</th>\n      <td>12.0</td>\n      <td>8</td>\n      <td>383.0</td>\n      <td>180</td>\n      <td>4955</td>\n      <td>11.5</td>\n      <td>71</td>\n      <td>1</td>\n      <td>dodge monaco (sw)</td>\n    </tr>\n    <tr>\n      <th>90</th>\n      <td>12.0</td>\n      <td>8</td>\n      <td>429.0</td>\n      <td>198</td>\n      <td>4952</td>\n      <td>11.5</td>\n      <td>73</td>\n      <td>1</td>\n      <td>mercury marquis brougham</td>\n    </tr>\n    <tr>\n      <th>95</th>\n      <td>12.0</td>\n      <td>8</td>\n      <td>455.0</td>\n      <td>225</td>\n      <td>4951</td>\n      <td>11.0</td>\n      <td>73</td>\n      <td>1</td>\n      <td>buick electra 225 custom</td>\n    </tr>\n  </tbody>\n</table>\n</div>"
          },
          "metadata": {}
        }
      ],
      "execution_count": 33
    },
    {
      "cell_type": "code",
      "source": "# q1.3 sort by model_year first, then by mpg within each year\nsort_model_by_mpg = df.sort_values(by=['model_year', 'mpg'], ascending=[True, True])\nsort_model_by_mpg.head()",
      "metadata": {
        "trusted": true
      },
      "outputs": [
        {
          "execution_count": 32,
          "output_type": "execute_result",
          "data": {
            "text/plain": "     mpg  cylinders  displacement horsepower  weight  acceleration  \\\n28   9.0          8         304.0        193    4732          18.5   \n25  10.0          8         360.0        215    4615          14.0   \n26  10.0          8         307.0        200    4376          15.0   \n27  11.0          8         318.0        210    4382          13.5   \n6   14.0          8         454.0        220    4354           9.0   \n\n    model_year  origin              name  \n28          70       1          hi 1200d  \n25          70       1         ford f250  \n26          70       1         chevy c20  \n27          70       1        dodge d200  \n6           70       1  chevrolet impala  ",
            "text/html": "<div>\n<style scoped>\n    .dataframe tbody tr th:only-of-type {\n        vertical-align: middle;\n    }\n\n    .dataframe tbody tr th {\n        vertical-align: top;\n    }\n\n    .dataframe thead th {\n        text-align: right;\n    }\n</style>\n<table border=\"1\" class=\"dataframe\">\n  <thead>\n    <tr style=\"text-align: right;\">\n      <th></th>\n      <th>mpg</th>\n      <th>cylinders</th>\n      <th>displacement</th>\n      <th>horsepower</th>\n      <th>weight</th>\n      <th>acceleration</th>\n      <th>model_year</th>\n      <th>origin</th>\n      <th>name</th>\n    </tr>\n  </thead>\n  <tbody>\n    <tr>\n      <th>28</th>\n      <td>9.0</td>\n      <td>8</td>\n      <td>304.0</td>\n      <td>193</td>\n      <td>4732</td>\n      <td>18.5</td>\n      <td>70</td>\n      <td>1</td>\n      <td>hi 1200d</td>\n    </tr>\n    <tr>\n      <th>25</th>\n      <td>10.0</td>\n      <td>8</td>\n      <td>360.0</td>\n      <td>215</td>\n      <td>4615</td>\n      <td>14.0</td>\n      <td>70</td>\n      <td>1</td>\n      <td>ford f250</td>\n    </tr>\n    <tr>\n      <th>26</th>\n      <td>10.0</td>\n      <td>8</td>\n      <td>307.0</td>\n      <td>200</td>\n      <td>4376</td>\n      <td>15.0</td>\n      <td>70</td>\n      <td>1</td>\n      <td>chevy c20</td>\n    </tr>\n    <tr>\n      <th>27</th>\n      <td>11.0</td>\n      <td>8</td>\n      <td>318.0</td>\n      <td>210</td>\n      <td>4382</td>\n      <td>13.5</td>\n      <td>70</td>\n      <td>1</td>\n      <td>dodge d200</td>\n    </tr>\n    <tr>\n      <th>6</th>\n      <td>14.0</td>\n      <td>8</td>\n      <td>454.0</td>\n      <td>220</td>\n      <td>4354</td>\n      <td>9.0</td>\n      <td>70</td>\n      <td>1</td>\n      <td>chevrolet impala</td>\n    </tr>\n  </tbody>\n</table>\n</div>"
          },
          "metadata": {}
        }
      ],
      "execution_count": 32
    },
    {
      "cell_type": "code",
      "source": "# q2.1 find how many cars of each cylinders type exist\ndf['cylinders'].value_counts()",
      "metadata": {
        "trusted": true
      },
      "outputs": [
        {
          "execution_count": 11,
          "output_type": "execute_result",
          "data": {
            "text/plain": "cylinders\n4    204\n8    103\n6     84\n3      4\n5      3\nName: count, dtype: int64"
          },
          "metadata": {}
        }
      ],
      "execution_count": 11
    },
    {
      "cell_type": "code",
      "source": "# q2.2 count how many times each origin appears\ndf['origin'].value_counts()",
      "metadata": {
        "trusted": true
      },
      "outputs": [
        {
          "execution_count": 12,
          "output_type": "execute_result",
          "data": {
            "text/plain": "origin\n1    249\n3     79\n2     70\nName: count, dtype: int64"
          },
          "metadata": {}
        }
      ],
      "execution_count": 12
    },
    {
      "cell_type": "code",
      "source": "# q2.3 which model_year has the most cars?\nmost_cars = df['model_year'].value_counts().idxmax()\nprint(most_cars)",
      "metadata": {
        "trusted": true
      },
      "outputs": [
        {
          "name": "stdout",
          "output_type": "stream",
          "text": "73\n"
        }
      ],
      "execution_count": 27
    },
    {
      "cell_type": "code",
      "source": "# q3.1 group by cylinders and calculate the average mpg\naverage_mpg= df.groupby('cylinders')['mpg'].mean()\nprint(average_mpg)",
      "metadata": {
        "trusted": true
      },
      "outputs": [
        {
          "name": "stdout",
          "output_type": "stream",
          "text": "cylinders\n3    20.550000\n4    29.286765\n5    27.366667\n6    19.985714\n8    14.963107\nName: mpg, dtype: float64\n"
        }
      ],
      "execution_count": 26
    },
    {
      "cell_type": "code",
      "source": "# q3.2 group by origin and find the maximum horsepower\ndf.groupby('origin')['horsepower'].max()",
      "metadata": {},
      "outputs": [],
      "execution_count": null
    },
    {
      "cell_type": "code",
      "source": "# q3.3 group by model_year and calculate both the mean and median of weight\ndf.groupby('model_year')['weight'].agg(['mean', 'median'])",
      "metadata": {},
      "outputs": [],
      "execution_count": null
    },
    {
      "cell_type": "code",
      "source": "# q4.1 how many unique car names are in the dataset?\ndf['car_name'].nunique()",
      "metadata": {},
      "outputs": [],
      "execution_count": null
    },
    {
      "cell_type": "code",
      "source": "# q4.2 list all unique values in the cylinders column\ndf['cylinders'].unique()",
      "metadata": {},
      "outputs": [],
      "execution_count": null
    },
    {
      "cell_type": "code",
      "source": "# q4.3 how many unique model_year values are there?\ndf['model_year'].nunique()",
      "metadata": {},
      "outputs": [],
      "execution_count": null
    }
  ]
}
