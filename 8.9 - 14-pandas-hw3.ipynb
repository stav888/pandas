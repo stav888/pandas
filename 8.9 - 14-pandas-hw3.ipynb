{
  "metadata": {
    "kernelspec": {
      "name": "python",
      "display_name": "Python (Pyodide)",
      "language": "python"
    },
    "language_info": {
      "codemirror_mode": {
        "name": "python",
        "version": 3
      },
      "file_extension": ".py",
      "mimetype": "text/x-python",
      "name": "python",
      "nbconvert_exporter": "python",
      "pygments_lexer": "ipython3",
      "version": "3.8"
    }
  },
  "nbformat_minor": 4,
  "nbformat": 4,
  "cells": [
    {
      "cell_type": "code",
      "source": "import pandas as pd",
      "metadata": {
        "trusted": true
      },
      "outputs": [],
      "execution_count": 5
    },
    {
      "cell_type": "code",
      "source": "# load the dataframe from csv - mpg.csv\n\ndf = pd.read_csv('mpg.csv')\ndf.head()",
      "metadata": {
        "trusted": true
      },
      "outputs": [
        {
          "execution_count": 50,
          "output_type": "execute_result",
          "data": {
            "text/plain": "    mpg  cylinders  displacement horsepower  weight  acceleration  model_year  \\\n0  18.0          8         307.0        130    3504          12.0          70   \n1  15.0          8         350.0        165    3693          11.5          70   \n2  18.0          8         318.0        150    3436          11.0          70   \n3  16.0          8         304.0        150    3433          12.0          70   \n4  17.0          8         302.0        140    3449          10.5          70   \n\n   origin                       name  \n0       1  chevrolet chevelle malibu  \n1       1          buick skylark 320  \n2       1         plymouth satellite  \n3       1              amc rebel sst  \n4       1                ford torino  ",
            "text/html": "<div>\n<style scoped>\n    .dataframe tbody tr th:only-of-type {\n        vertical-align: middle;\n    }\n\n    .dataframe tbody tr th {\n        vertical-align: top;\n    }\n\n    .dataframe thead th {\n        text-align: right;\n    }\n</style>\n<table border=\"1\" class=\"dataframe\">\n  <thead>\n    <tr style=\"text-align: right;\">\n      <th></th>\n      <th>mpg</th>\n      <th>cylinders</th>\n      <th>displacement</th>\n      <th>horsepower</th>\n      <th>weight</th>\n      <th>acceleration</th>\n      <th>model_year</th>\n      <th>origin</th>\n      <th>name</th>\n    </tr>\n  </thead>\n  <tbody>\n    <tr>\n      <th>0</th>\n      <td>18.0</td>\n      <td>8</td>\n      <td>307.0</td>\n      <td>130</td>\n      <td>3504</td>\n      <td>12.0</td>\n      <td>70</td>\n      <td>1</td>\n      <td>chevrolet chevelle malibu</td>\n    </tr>\n    <tr>\n      <th>1</th>\n      <td>15.0</td>\n      <td>8</td>\n      <td>350.0</td>\n      <td>165</td>\n      <td>3693</td>\n      <td>11.5</td>\n      <td>70</td>\n      <td>1</td>\n      <td>buick skylark 320</td>\n    </tr>\n    <tr>\n      <th>2</th>\n      <td>18.0</td>\n      <td>8</td>\n      <td>318.0</td>\n      <td>150</td>\n      <td>3436</td>\n      <td>11.0</td>\n      <td>70</td>\n      <td>1</td>\n      <td>plymouth satellite</td>\n    </tr>\n    <tr>\n      <th>3</th>\n      <td>16.0</td>\n      <td>8</td>\n      <td>304.0</td>\n      <td>150</td>\n      <td>3433</td>\n      <td>12.0</td>\n      <td>70</td>\n      <td>1</td>\n      <td>amc rebel sst</td>\n    </tr>\n    <tr>\n      <th>4</th>\n      <td>17.0</td>\n      <td>8</td>\n      <td>302.0</td>\n      <td>140</td>\n      <td>3449</td>\n      <td>10.5</td>\n      <td>70</td>\n      <td>1</td>\n      <td>ford torino</td>\n    </tr>\n  </tbody>\n</table>\n</div>"
          },
          "metadata": {}
        }
      ],
      "execution_count": 50
    },
    {
      "cell_type": "code",
      "source": "# 1.1 sort the dataframe by mpg in ascending order\ndf_mpg_sorted = df.sort_values(by='mpg')\ndf_mpg_sorted.head()",
      "metadata": {
        "trusted": true
      },
      "outputs": [
        {
          "execution_count": 51,
          "output_type": "execute_result",
          "data": {
            "text/plain": "      mpg  cylinders  displacement horsepower  weight  acceleration  \\\n28    9.0          8         304.0        193    4732          18.5   \n25   10.0          8         360.0        215    4615          14.0   \n26   10.0          8         307.0        200    4376          15.0   \n103  11.0          8         400.0        150    4997          14.0   \n124  11.0          8         350.0        180    3664          11.0   \n\n     model_year  origin              name  \n28           70       1          hi 1200d  \n25           70       1         ford f250  \n26           70       1         chevy c20  \n103          73       1  chevrolet impala  \n124          73       1  oldsmobile omega  ",
            "text/html": "<div>\n<style scoped>\n    .dataframe tbody tr th:only-of-type {\n        vertical-align: middle;\n    }\n\n    .dataframe tbody tr th {\n        vertical-align: top;\n    }\n\n    .dataframe thead th {\n        text-align: right;\n    }\n</style>\n<table border=\"1\" class=\"dataframe\">\n  <thead>\n    <tr style=\"text-align: right;\">\n      <th></th>\n      <th>mpg</th>\n      <th>cylinders</th>\n      <th>displacement</th>\n      <th>horsepower</th>\n      <th>weight</th>\n      <th>acceleration</th>\n      <th>model_year</th>\n      <th>origin</th>\n      <th>name</th>\n    </tr>\n  </thead>\n  <tbody>\n    <tr>\n      <th>28</th>\n      <td>9.0</td>\n      <td>8</td>\n      <td>304.0</td>\n      <td>193</td>\n      <td>4732</td>\n      <td>18.5</td>\n      <td>70</td>\n      <td>1</td>\n      <td>hi 1200d</td>\n    </tr>\n    <tr>\n      <th>25</th>\n      <td>10.0</td>\n      <td>8</td>\n      <td>360.0</td>\n      <td>215</td>\n      <td>4615</td>\n      <td>14.0</td>\n      <td>70</td>\n      <td>1</td>\n      <td>ford f250</td>\n    </tr>\n    <tr>\n      <th>26</th>\n      <td>10.0</td>\n      <td>8</td>\n      <td>307.0</td>\n      <td>200</td>\n      <td>4376</td>\n      <td>15.0</td>\n      <td>70</td>\n      <td>1</td>\n      <td>chevy c20</td>\n    </tr>\n    <tr>\n      <th>103</th>\n      <td>11.0</td>\n      <td>8</td>\n      <td>400.0</td>\n      <td>150</td>\n      <td>4997</td>\n      <td>14.0</td>\n      <td>73</td>\n      <td>1</td>\n      <td>chevrolet impala</td>\n    </tr>\n    <tr>\n      <th>124</th>\n      <td>11.0</td>\n      <td>8</td>\n      <td>350.0</td>\n      <td>180</td>\n      <td>3664</td>\n      <td>11.0</td>\n      <td>73</td>\n      <td>1</td>\n      <td>oldsmobile omega</td>\n    </tr>\n  </tbody>\n</table>\n</div>"
          },
          "metadata": {}
        }
      ],
      "execution_count": 51
    },
    {
      "cell_type": "code",
      "source": "# 1.2 sort the dataframe by weight in descending order\nweight_descending = df.sort_values(by='weight', ascending=False)\nweight_descending.head()",
      "metadata": {
        "trusted": true
      },
      "outputs": [
        {
          "execution_count": 55,
          "output_type": "execute_result",
          "data": {
            "text/plain": "      mpg  cylinders  displacement horsepower  weight  acceleration  \\\n44   13.0          8         400.0        175    5140          12.0   \n103  11.0          8         400.0        150    4997          14.0   \n42   12.0          8         383.0        180    4955          11.5   \n90   12.0          8         429.0        198    4952          11.5   \n95   12.0          8         455.0        225    4951          11.0   \n\n     model_year  origin                      name  \n44           71       1       pontiac safari (sw)  \n103          73       1          chevrolet impala  \n42           71       1         dodge monaco (sw)  \n90           73       1  mercury marquis brougham  \n95           73       1  buick electra 225 custom  ",
            "text/html": "<div>\n<style scoped>\n    .dataframe tbody tr th:only-of-type {\n        vertical-align: middle;\n    }\n\n    .dataframe tbody tr th {\n        vertical-align: top;\n    }\n\n    .dataframe thead th {\n        text-align: right;\n    }\n</style>\n<table border=\"1\" class=\"dataframe\">\n  <thead>\n    <tr style=\"text-align: right;\">\n      <th></th>\n      <th>mpg</th>\n      <th>cylinders</th>\n      <th>displacement</th>\n      <th>horsepower</th>\n      <th>weight</th>\n      <th>acceleration</th>\n      <th>model_year</th>\n      <th>origin</th>\n      <th>name</th>\n    </tr>\n  </thead>\n  <tbody>\n    <tr>\n      <th>44</th>\n      <td>13.0</td>\n      <td>8</td>\n      <td>400.0</td>\n      <td>175</td>\n      <td>5140</td>\n      <td>12.0</td>\n      <td>71</td>\n      <td>1</td>\n      <td>pontiac safari (sw)</td>\n    </tr>\n    <tr>\n      <th>103</th>\n      <td>11.0</td>\n      <td>8</td>\n      <td>400.0</td>\n      <td>150</td>\n      <td>4997</td>\n      <td>14.0</td>\n      <td>73</td>\n      <td>1</td>\n      <td>chevrolet impala</td>\n    </tr>\n    <tr>\n      <th>42</th>\n      <td>12.0</td>\n      <td>8</td>\n      <td>383.0</td>\n      <td>180</td>\n      <td>4955</td>\n      <td>11.5</td>\n      <td>71</td>\n      <td>1</td>\n      <td>dodge monaco (sw)</td>\n    </tr>\n    <tr>\n      <th>90</th>\n      <td>12.0</td>\n      <td>8</td>\n      <td>429.0</td>\n      <td>198</td>\n      <td>4952</td>\n      <td>11.5</td>\n      <td>73</td>\n      <td>1</td>\n      <td>mercury marquis brougham</td>\n    </tr>\n    <tr>\n      <th>95</th>\n      <td>12.0</td>\n      <td>8</td>\n      <td>455.0</td>\n      <td>225</td>\n      <td>4951</td>\n      <td>11.0</td>\n      <td>73</td>\n      <td>1</td>\n      <td>buick electra 225 custom</td>\n    </tr>\n  </tbody>\n</table>\n</div>"
          },
          "metadata": {}
        }
      ],
      "execution_count": 55
    },
    {
      "cell_type": "code",
      "source": "# 1.3 sort by model_year first, then by mpg within each year\nsort_model_by_mpg = df.sort_values(by=['model_year', 'mpg'], ascending=[True, True])\nsort_model_by_mpg.head()",
      "metadata": {
        "trusted": true
      },
      "outputs": [
        {
          "execution_count": 32,
          "output_type": "execute_result",
          "data": {
            "text/plain": "     mpg  cylinders  displacement horsepower  weight  acceleration  \\\n28   9.0          8         304.0        193    4732          18.5   \n25  10.0          8         360.0        215    4615          14.0   \n26  10.0          8         307.0        200    4376          15.0   \n27  11.0          8         318.0        210    4382          13.5   \n6   14.0          8         454.0        220    4354           9.0   \n\n    model_year  origin              name  \n28          70       1          hi 1200d  \n25          70       1         ford f250  \n26          70       1         chevy c20  \n27          70       1        dodge d200  \n6           70       1  chevrolet impala  ",
            "text/html": "<div>\n<style scoped>\n    .dataframe tbody tr th:only-of-type {\n        vertical-align: middle;\n    }\n\n    .dataframe tbody tr th {\n        vertical-align: top;\n    }\n\n    .dataframe thead th {\n        text-align: right;\n    }\n</style>\n<table border=\"1\" class=\"dataframe\">\n  <thead>\n    <tr style=\"text-align: right;\">\n      <th></th>\n      <th>mpg</th>\n      <th>cylinders</th>\n      <th>displacement</th>\n      <th>horsepower</th>\n      <th>weight</th>\n      <th>acceleration</th>\n      <th>model_year</th>\n      <th>origin</th>\n      <th>name</th>\n    </tr>\n  </thead>\n  <tbody>\n    <tr>\n      <th>28</th>\n      <td>9.0</td>\n      <td>8</td>\n      <td>304.0</td>\n      <td>193</td>\n      <td>4732</td>\n      <td>18.5</td>\n      <td>70</td>\n      <td>1</td>\n      <td>hi 1200d</td>\n    </tr>\n    <tr>\n      <th>25</th>\n      <td>10.0</td>\n      <td>8</td>\n      <td>360.0</td>\n      <td>215</td>\n      <td>4615</td>\n      <td>14.0</td>\n      <td>70</td>\n      <td>1</td>\n      <td>ford f250</td>\n    </tr>\n    <tr>\n      <th>26</th>\n      <td>10.0</td>\n      <td>8</td>\n      <td>307.0</td>\n      <td>200</td>\n      <td>4376</td>\n      <td>15.0</td>\n      <td>70</td>\n      <td>1</td>\n      <td>chevy c20</td>\n    </tr>\n    <tr>\n      <th>27</th>\n      <td>11.0</td>\n      <td>8</td>\n      <td>318.0</td>\n      <td>210</td>\n      <td>4382</td>\n      <td>13.5</td>\n      <td>70</td>\n      <td>1</td>\n      <td>dodge d200</td>\n    </tr>\n    <tr>\n      <th>6</th>\n      <td>14.0</td>\n      <td>8</td>\n      <td>454.0</td>\n      <td>220</td>\n      <td>4354</td>\n      <td>9.0</td>\n      <td>70</td>\n      <td>1</td>\n      <td>chevrolet impala</td>\n    </tr>\n  </tbody>\n</table>\n</div>"
          },
          "metadata": {}
        }
      ],
      "execution_count": 32
    },
    {
      "cell_type": "code",
      "source": "# 2.1 find how many cars of each cylinders type exist\ndf['cylinders'].value_counts()",
      "metadata": {
        "trusted": true
      },
      "outputs": [
        {
          "execution_count": 11,
          "output_type": "execute_result",
          "data": {
            "text/plain": "cylinders\n4    204\n8    103\n6     84\n3      4\n5      3\nName: count, dtype: int64"
          },
          "metadata": {}
        }
      ],
      "execution_count": 11
    },
    {
      "cell_type": "code",
      "source": "# 2.2 count how many times each origin appears\ndf['origin'].value_counts()",
      "metadata": {
        "trusted": true
      },
      "outputs": [
        {
          "execution_count": 12,
          "output_type": "execute_result",
          "data": {
            "text/plain": "origin\n1    249\n3     79\n2     70\nName: count, dtype: int64"
          },
          "metadata": {}
        }
      ],
      "execution_count": 12
    },
    {
      "cell_type": "code",
      "source": "# 2.3 which model_year has the most cars?\nmost_cars = df['model_year'].value_counts().idxmax()\nprint(\"most cars by year:\", most_cars)",
      "metadata": {
        "trusted": true
      },
      "outputs": [
        {
          "name": "stdout",
          "output_type": "stream",
          "text": "most cars by year: 73\n"
        }
      ],
      "execution_count": 49
    },
    {
      "cell_type": "code",
      "source": "# 3.1 group by cylinders and calculate the average mpg\naverage_mpg = df.groupby('cylinders')['mpg'].mean()\nprint(average_mpg)",
      "metadata": {
        "trusted": true
      },
      "outputs": [
        {
          "name": "stdout",
          "output_type": "stream",
          "text": "cylinders\n3    20.550000\n4    29.286765\n5    27.366667\n6    19.985714\n8    14.963107\nName: mpg, dtype: float64\n"
        }
      ],
      "execution_count": 60
    },
    {
      "cell_type": "code",
      "source": "# 3.2 group by origin and find the maximum horsepower\ndf.groupby(\"model_year\")[\"mpg\"].mean().reset_index()",
      "metadata": {
        "trusted": true
      },
      "outputs": [
        {
          "execution_count": 37,
          "output_type": "execute_result",
          "data": {
            "text/plain": "    model_year        mpg\n0           70  17.689655\n1           71  21.250000\n2           72  18.714286\n3           73  17.100000\n4           74  22.703704\n5           75  20.266667\n6           76  21.573529\n7           77  23.375000\n8           78  24.061111\n9           79  25.093103\n10          80  33.696552\n11          81  30.334483\n12          82  31.709677",
            "text/html": "<div>\n<style scoped>\n    .dataframe tbody tr th:only-of-type {\n        vertical-align: middle;\n    }\n\n    .dataframe tbody tr th {\n        vertical-align: top;\n    }\n\n    .dataframe thead th {\n        text-align: right;\n    }\n</style>\n<table border=\"1\" class=\"dataframe\">\n  <thead>\n    <tr style=\"text-align: right;\">\n      <th></th>\n      <th>model_year</th>\n      <th>mpg</th>\n    </tr>\n  </thead>\n  <tbody>\n    <tr>\n      <th>0</th>\n      <td>70</td>\n      <td>17.689655</td>\n    </tr>\n    <tr>\n      <th>1</th>\n      <td>71</td>\n      <td>21.250000</td>\n    </tr>\n    <tr>\n      <th>2</th>\n      <td>72</td>\n      <td>18.714286</td>\n    </tr>\n    <tr>\n      <th>3</th>\n      <td>73</td>\n      <td>17.100000</td>\n    </tr>\n    <tr>\n      <th>4</th>\n      <td>74</td>\n      <td>22.703704</td>\n    </tr>\n    <tr>\n      <th>5</th>\n      <td>75</td>\n      <td>20.266667</td>\n    </tr>\n    <tr>\n      <th>6</th>\n      <td>76</td>\n      <td>21.573529</td>\n    </tr>\n    <tr>\n      <th>7</th>\n      <td>77</td>\n      <td>23.375000</td>\n    </tr>\n    <tr>\n      <th>8</th>\n      <td>78</td>\n      <td>24.061111</td>\n    </tr>\n    <tr>\n      <th>9</th>\n      <td>79</td>\n      <td>25.093103</td>\n    </tr>\n    <tr>\n      <th>10</th>\n      <td>80</td>\n      <td>33.696552</td>\n    </tr>\n    <tr>\n      <th>11</th>\n      <td>81</td>\n      <td>30.334483</td>\n    </tr>\n    <tr>\n      <th>12</th>\n      <td>82</td>\n      <td>31.709677</td>\n    </tr>\n  </tbody>\n</table>\n</div>"
          },
          "metadata": {}
        }
      ],
      "execution_count": 37
    },
    {
      "cell_type": "code",
      "source": "# 3.3 group by model_year and calculate both the mean and median of weight\ndf.groupby('model_year')['weight'].agg(['mean', 'median'])",
      "metadata": {
        "trusted": true
      },
      "outputs": [
        {
          "execution_count": 52,
          "output_type": "execute_result",
          "data": {
            "text/plain": "                   mean  median\nmodel_year                     \n70          3372.793103  3449.0\n71          2995.428571  2798.0\n72          3237.714286  2956.0\n73          3419.025000  3338.5\n74          2877.925926  2489.0\n75          3176.800000  3098.5\n76          3078.735294  3171.5\n77          2997.357143  2747.5\n78          2861.805556  2910.0\n79          3055.344828  3190.0\n80          2436.655172  2335.0\n81          2522.931034  2385.0\n82          2453.548387  2525.0",
            "text/html": "<div>\n<style scoped>\n    .dataframe tbody tr th:only-of-type {\n        vertical-align: middle;\n    }\n\n    .dataframe tbody tr th {\n        vertical-align: top;\n    }\n\n    .dataframe thead th {\n        text-align: right;\n    }\n</style>\n<table border=\"1\" class=\"dataframe\">\n  <thead>\n    <tr style=\"text-align: right;\">\n      <th></th>\n      <th>mean</th>\n      <th>median</th>\n    </tr>\n    <tr>\n      <th>model_year</th>\n      <th></th>\n      <th></th>\n    </tr>\n  </thead>\n  <tbody>\n    <tr>\n      <th>70</th>\n      <td>3372.793103</td>\n      <td>3449.0</td>\n    </tr>\n    <tr>\n      <th>71</th>\n      <td>2995.428571</td>\n      <td>2798.0</td>\n    </tr>\n    <tr>\n      <th>72</th>\n      <td>3237.714286</td>\n      <td>2956.0</td>\n    </tr>\n    <tr>\n      <th>73</th>\n      <td>3419.025000</td>\n      <td>3338.5</td>\n    </tr>\n    <tr>\n      <th>74</th>\n      <td>2877.925926</td>\n      <td>2489.0</td>\n    </tr>\n    <tr>\n      <th>75</th>\n      <td>3176.800000</td>\n      <td>3098.5</td>\n    </tr>\n    <tr>\n      <th>76</th>\n      <td>3078.735294</td>\n      <td>3171.5</td>\n    </tr>\n    <tr>\n      <th>77</th>\n      <td>2997.357143</td>\n      <td>2747.5</td>\n    </tr>\n    <tr>\n      <th>78</th>\n      <td>2861.805556</td>\n      <td>2910.0</td>\n    </tr>\n    <tr>\n      <th>79</th>\n      <td>3055.344828</td>\n      <td>3190.0</td>\n    </tr>\n    <tr>\n      <th>80</th>\n      <td>2436.655172</td>\n      <td>2335.0</td>\n    </tr>\n    <tr>\n      <th>81</th>\n      <td>2522.931034</td>\n      <td>2385.0</td>\n    </tr>\n    <tr>\n      <th>82</th>\n      <td>2453.548387</td>\n      <td>2525.0</td>\n    </tr>\n  </tbody>\n</table>\n</div>"
          },
          "metadata": {}
        }
      ],
      "execution_count": 52
    },
    {
      "cell_type": "code",
      "source": "# 4.1 how many unique car names are in the dataset?\nunique_names = df['name'].nunique()\n\nprint(\"unique car names:\", unique_names)",
      "metadata": {
        "trusted": true
      },
      "outputs": [
        {
          "name": "stdout",
          "output_type": "stream",
          "text": "unique car names: 305\n"
        }
      ],
      "execution_count": 53
    },
    {
      "cell_type": "code",
      "source": "# 4.2 list all unique values in the cylinders column\nunique_cylinders = df['cylinders'].unique()\n\nprint(\"unique values of cylinders:\", unique_cylinders)",
      "metadata": {
        "trusted": true
      },
      "outputs": [
        {
          "name": "stdout",
          "output_type": "stream",
          "text": "unique values of cylinders: [8 4 6 3 5]\n"
        }
      ],
      "execution_count": 54
    },
    {
      "cell_type": "code",
      "source": "# 4.3 how many unique model_year values are there?\nunique_model_year = df['model_year'].nunique()\n\nprint(\"unique model year:\", unique_model_year)",
      "metadata": {
        "trusted": true
      },
      "outputs": [
        {
          "name": "stdout",
          "output_type": "stream",
          "text": "unique model year: 13\n"
        }
      ],
      "execution_count": 47
    }
  ]
}
