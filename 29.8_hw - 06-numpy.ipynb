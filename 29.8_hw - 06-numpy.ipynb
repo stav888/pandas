{
  "metadata": {
    "kernelspec": {
      "name": "python",
      "display_name": "Python (Pyodide)",
      "language": "python"
    },
    "language_info": {
      "codemirror_mode": {
        "name": "python",
        "version": 3
      },
      "file_extension": ".py",
      "mimetype": "text/x-python",
      "name": "python",
      "nbconvert_exporter": "python",
      "pygments_lexer": "ipython3",
      "version": "3.8"
    }
  },
  "nbformat_minor": 4,
  "nbformat": 4,
  "cells": [
    {
      "cell_type": "code",
      "source": "import numpy as np",
      "metadata": {
        "trusted": true
      },
      "outputs": [],
      "execution_count": 27
    },
    {
      "cell_type": "code",
      "source": "# 1. Create a NumPy array from the list [10, 20, 30, 40]\n\narray1 = np.array([10, 20, 30, 40])\nprint(\"1:\", array1)",
      "metadata": {
        "trusted": true
      },
      "outputs": [
        {
          "name": "stdout",
          "output_type": "stream",
          "text": "1: [10 20 30 40]\n"
        }
      ],
      "execution_count": 28
    },
    {
      "cell_type": "code",
      "source": "# 2. Reshape the array np.array([2, 4, 6, 8, 10, 12, 14, 16])\n\na2 = np.array([2, 4, 6, 8, 10, 12, 14, 16])\narray2_4_2 = a2.reshape(4, 2)\narray2_2_4 = a2.reshape(2, 4)\nprint(\"2a (4,2):\\n\", array2_4_2)\nprint()\nprint(\"2b (2,4):\\n\", array2_2_4)",
      "metadata": {
        "trusted": true
      },
      "outputs": [
        {
          "name": "stdout",
          "output_type": "stream",
          "text": "2a (4,2):\n [[ 2  4]\n [ 6  8]\n [10 12]\n [14 16]]\n\n2b (2,4):\n [[ 2  4  6  8]\n [10 12 14 16]]\n"
        }
      ],
      "execution_count": 29
    },
    {
      "cell_type": "code",
      "source": "# 3. a = np.array([[6, 7, 8, 9], [7, 8, 9, 10]])\n\na3 = np.array([[6, 7, 8, 9], [7, 8, 9, 10]])\nprint(\"3a shape:\", a3.shape)\nprint(\"3b len:\", len(a3))\nprint(\"3c ndim:\", a3.ndim)\nprint(\"3d size:\", a3.size)\nprint(\"3e dtype:\", a3.dtype)",
      "metadata": {
        "trusted": true
      },
      "outputs": [
        {
          "name": "stdout",
          "output_type": "stream",
          "text": "3a shape: (2, 4)\n3b len: 2\n3c ndim: 2\n3d size: 8\n3e dtype: int32\n"
        }
      ],
      "execution_count": 7
    },
    {
      "cell_type": "code",
      "source": "# 4. Create a 2×6 array filled with zeros\n\narray4 = np.zeros((2, 6))\nprint(\"4:\\n\", array4)",
      "metadata": {
        "trusted": true
      },
      "outputs": [
        {
          "name": "stdout",
          "output_type": "stream",
          "text": "4:\n [[0. 0. 0. 0. 0. 0.]\n [0. 0. 0. 0. 0. 0.]]\n"
        }
      ],
      "execution_count": 8
    },
    {
      "cell_type": "code",
      "source": "# 5. Create a 3×3 array filled with ones\n\narray5 = np.ones((3, 3))\nprint(\"5:\\n\", array5)",
      "metadata": {
        "trusted": true
      },
      "outputs": [
        {
          "name": "stdout",
          "output_type": "stream",
          "text": "5:\n [[1. 1. 1.]\n [1. 1. 1.]\n [1. 1. 1.]]\n"
        }
      ],
      "execution_count": 9
    },
    {
      "cell_type": "code",
      "source": "# 6. Create a 5×2 array with random floats between 0 and 1\n\narray6 = np.random.rand(5, 2)\nprint(\"6:\\n\", array6)",
      "metadata": {
        "trusted": true
      },
      "outputs": [
        {
          "name": "stdout",
          "output_type": "stream",
          "text": "6:\n [[0.02312602 0.29124154]\n [0.4805246  0.1805883 ]\n [0.11391816 0.0199853 ]\n [0.01067596 0.83793287]\n [0.39733319 0.79113106]]\n"
        }
      ],
      "execution_count": 10
    },
    {
      "cell_type": "code",
      "source": "# 7. Create a 4×4 array with random integers between 50 and 150\n\narray7 = np.random.randint(50, 151, size=(4, 4))\nprint(\"7:\\n\", array7)",
      "metadata": {
        "trusted": true
      },
      "outputs": [
        {
          "name": "stdout",
          "output_type": "stream",
          "text": "7:\n [[ 63 149 145 122]\n [ 84 140  87  72]\n [ 79 114  88 150]\n [ 65 149 124 147]]\n"
        }
      ],
      "execution_count": 11
    },
    {
      "cell_type": "code",
      "source": "# 8. Using np.random.seed(7), generate a 2×5 array of random integers between 5 and 20\n\nnp.random.seed(7)\narray8 = np.random.randint(5, 21, size=(2, 5))\nprint(\"8:\\n\", array8)",
      "metadata": {
        "trusted": true
      },
      "outputs": [
        {
          "name": "stdout",
          "output_type": "stream",
          "text": "8:\n [[20  9 14 11  8]\n [ 8 12 12 17 14]]\n"
        }
      ],
      "execution_count": 12
    },
    {
      "cell_type": "code",
      "source": "# 9. Reshape the array from question 8 into shape (5, 2)\n\narray9 = array8.reshape(5, 2)\nprint(\"9:\\n\", array9)",
      "metadata": {
        "trusted": true
      },
      "outputs": [
        {
          "name": "stdout",
          "output_type": "stream",
          "text": "9:\n [[20  9]\n [14 11]\n [ 8  8]\n [12 12]\n [17 14]]\n"
        }
      ],
      "execution_count": 13
    },
    {
      "cell_type": "code",
      "source": "# 10. Create a 1D array of numbers from 5 to 25 with step size 5\n\narray10 = np.arange(5, 26, 5)\nprint(\"10:\", array10)",
      "metadata": {
        "trusted": true
      },
      "outputs": [
        {
          "name": "stdout",
          "output_type": "stream",
          "text": "10: [ 5 10 15 20 25]\n"
        }
      ],
      "execution_count": 14
    },
    {
      "cell_type": "code",
      "source": "# 11. Create an array of 6 equally spaced numbers between -1 and 1\n\narray11 = np.linspace(-1, 1, 6)\nprint(\"11:\", array11)",
      "metadata": {
        "trusted": true
      },
      "outputs": [
        {
          "name": "stdout",
          "output_type": "stream",
          "text": "11: [-1.  -0.6 -0.2  0.2  0.6  1. ]\n"
        }
      ],
      "execution_count": 15
    },
    {
      "cell_type": "code",
      "source": "# 12. a = np.array([2, 4, 6]) and b = np.array([1, 3, 5])\n\na12 = np.array([2, 4, 6])\nb12 = np.array([1, 3, 5])\nprint(\"12a a+b:\", a12 + b12)\nprint(\"12b a-b:\", a12 - b12)\nprint(\"12c a*b:\", a12 * b12)\nprint(\"12d a/b:\", a12 / b12)\nprint(\"12e a**3:\", a12 ** 3)",
      "metadata": {
        "trusted": true
      },
      "outputs": [
        {
          "name": "stdout",
          "output_type": "stream",
          "text": "12a a+b: [ 3  7 11]\n12b a-b: [1 1 1]\n12c a*b: [ 2 12 30]\n12d a/b: [2.         1.33333333 1.2       ]\n12e a**3: [  8  64 216]\n"
        }
      ],
      "execution_count": 16
    },
    {
      "cell_type": "code",
      "source": "# 13. a = np.array([2, 4, 6, 100]), compute the mean\n\na13 = np.array([2, 4, 6, 100])\nprint(\"13 mean:\", a13.mean())",
      "metadata": {
        "trusted": true
      },
      "outputs": [
        {
          "name": "stdout",
          "output_type": "stream",
          "text": "13 mean: 28.0\n"
        }
      ],
      "execution_count": 17
    },
    {
      "cell_type": "code",
      "source": "# 14. From B = np.array([[2, 4, 6], [8, 10, 12], [14, 16, 18]])\n\nB14 = np.array([[2, 4, 6], [8, 10, 12], [14, 16, 18]])\nprint(\"14a row 2, col 1:\", B14[2, 1])\nprint(\"14b all from col 0:\", B14[:, 0])\nprint(\"14c all from row 2:\", B14[2, :])",
      "metadata": {
        "trusted": true
      },
      "outputs": [
        {
          "name": "stdout",
          "output_type": "stream",
          "text": "14a row 2, col 1: 16\n14b all from col 0: [ 2  8 14]\n14c all from row 2: [14 16 18]\n"
        }
      ],
      "execution_count": 18
    },
    {
      "cell_type": "code",
      "source": "# 15. *Bonus: Sort the array np.array([12, 4, 9, 1])\n\narray15 = np.array([12, 4, 9, 1])\nprint(\"15 sorted:\", np.sort(array15))",
      "metadata": {
        "trusted": true
      },
      "outputs": [
        {
          "name": "stdout",
          "output_type": "stream",
          "text": "15 sorted: [ 1  4  9 12]\n"
        }
      ],
      "execution_count": 19
    },
    {
      "cell_type": "code",
      "source": "# 16. *Bonus: Sort S by rows and columns\n\nS16 = np.array([[9, 7, 8], [3, 2, 1]])\nprint(\"16a sort rows:\\n\", np.sort(S16, axis=1))\nprint(\"16b sort cols:\\n\", np.sort(S16, axis=0))",
      "metadata": {
        "trusted": true
      },
      "outputs": [
        {
          "name": "stdout",
          "output_type": "stream",
          "text": "16a sort rows:\n [[7 8 9]\n [1 2 3]]\n16b sort cols:\n [[3 2 1]\n [9 7 8]]\n"
        }
      ],
      "execution_count": 20
    },
    {
      "cell_type": "code",
      "source": "# 17. 3×4 array of random ints 0-50, np.random.seed(11)\n\nnp.random.seed(11)\narray17 = np.random.randint(0, 51, size=(3, 4))\nprint(\"17:\\n\", array17)",
      "metadata": {
        "trusted": true
      },
      "outputs": [
        {
          "name": "stdout",
          "output_type": "stream",
          "text": "17:\n [[25 16 27 17]\n [13 12 33  7]\n [18 24 45 28]]\n"
        }
      ],
      "execution_count": 21
    },
    {
      "cell_type": "code",
      "source": "# 18. a = np.array([5, 15, 25, 35, 45]), extract all values greater than the mean\n\na18 = np.array([5, 15, 25, 35, 45])\nmean18 = a18.mean()\nprint(\"18:\", a18[a18 > mean18])",
      "metadata": {
        "trusted": true
      },
      "outputs": [
        {
          "name": "stdout",
          "output_type": "stream",
          "text": "18: [35 45]\n"
        }
      ],
      "execution_count": 22
    },
    {
      "cell_type": "code",
      "source": "# 19. a = np.array([2, 4, 6, 8, 10, 12])\n\na19 = np.array([2, 4, 6, 8, 10, 12])\nprint(\"19a >5 and divisible by 4:\", a19[(a19 > 5) & (a19 % 4 == 0)])\nprint(\"19b <5 or >9:\", a19[(a19 < 5) | (a19 > 9)])\nprint(\"19c not >7:\", a19[~(a19 > 7)])",
      "metadata": {
        "trusted": true
      },
      "outputs": [
        {
          "name": "stdout",
          "output_type": "stream",
          "text": "19a >5 and divisible by 4: [ 8 12]\n19b <5 or >9: [ 2  4 10 12]\n19c not >7: [2 4 6]\n"
        }
      ],
      "execution_count": 23
    },
    {
      "cell_type": "code",
      "source": "# 20. a = np.array([42, 7, 19, 88])\n\na20 = np.array([42, 7, 19, 88])\nprint(\"20a min idx:\", np.argmin(a20))\nprint(\"20b max idx:\", np.argmax(a20))",
      "metadata": {
        "trusted": true
      },
      "outputs": [
        {
          "name": "stdout",
          "output_type": "stream",
          "text": "20a min idx: 1\n20b max idx: 3\n"
        }
      ],
      "execution_count": 24
    },
    {
      "cell_type": "code",
      "source": "# 21. *Bonus: From B = np.array([[12, 45, 7], [33, 5, 29]]), indices of min/max (1D + 2D)\n\nB21 = np.array([[12, 45, 7], [33, 5, 29]])\nmin_1d = np.argmin(B21)\nmax_1d = np.argmax(B21)\nmin_2d = np.unravel_index(min_1d, B21.shape)\nmax_2d = np.unravel_index(max_1d, B21.shape)\nprint(\"21a min index 1D:\", min_1d, \"2D:\", min_2d)\nprint(\"21b max index 1D:\", max_1d, \"2D:\", max_2d)",
      "metadata": {
        "trusted": true
      },
      "outputs": [
        {
          "name": "stdout",
          "output_type": "stream",
          "text": "21a min index 1D: 4 2D: (np.int32(1), np.int32(1))\n21b max index 1D: 1 2D: (np.int32(0), np.int32(1))\n"
        }
      ],
      "execution_count": 25
    },
    {
      "cell_type": "code",
      "source": "# 22. *Bonus: Load and rotate image 90 degrees\n\ntry:\n    from PIL import Image\n    img = Image.open(\"images/numpy1.png\")\n    img_rotated = img.rotate(-90, expand=True)\n    img_rotated.show()\n    print(\"22: Image rotated (see output)\")\nexcept Exception as e:\n    print(\"22: Image rotation failed (Pillow required or file missing):\", e)",
      "metadata": {
        "trusted": true
      },
      "outputs": [
        {
          "name": "stdout",
          "output_type": "stream",
          "text": "22: Image rotation failed (Pillow required or file missing): No module named 'PIL'\n"
        }
      ],
      "execution_count": 26
    }
  ]
}
