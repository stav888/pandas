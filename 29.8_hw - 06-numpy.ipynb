{
  "cells": [
    {
      "cell_type": "code",
      "execution_count": 1,
      "id": "a1b2c3d4-0001-4a6d-8a6a-1a1a1a1a1a1a",
      "metadata": {},
      "outputs": [
        {
          "name": "stdout",
          "output_type": "stream",
          "text": [
            "1: [10 20 30 40]\n"
          ]
        }
      ],
      "source": [
        "# 1: create a NumPy array\n",
        "import numpy as np\n",
        "\n",
        "array1 = np.array([10, 20, 30, 40])\n",
        "print(\"1:\", array1)"
      ]
    },
    {
      "cell_type": "code",
      "execution_count": 2,
      "id": "a1b2c3d4-0002-4b7e-9b7b-2b2b2b2b2b2b",
      "metadata": {},
      "outputs": [
        {
          "name": "stdout",
          "output_type": "stream",
          "text": [
            "\n2 (4x2):\n [[ 2  4]\n [ 6  8]\n [10 12]\n [14 16]]\n\n2 (2x4):\n [[ 2  4  6  8]\n [10 12 14 16]]\n"
          ]
        }
      ],
      "source": [
        "# 2: reshape NumPy array\n",
        "array2 = np.arange(2, 17, 2)\n",
        "array2_4x2 = array2.reshape(4, 2)\n",
        "array2_2x4 = array2.reshape(2, 4)\n",
        "print(\"\\n2 (4x2):\\n\", array2_4x2)\n",
        "print(\"\\n2 (2x4):\\n\", array2_2x4)"
      ]
    },
    {
      "cell_type": "code",
      "execution_count": 3,
      "id": "a1b2c3d4-0003-4c8f-ac8c-3c3c3c3c3c3c",
      "metadata": {},
      "outputs": [
        {
          "name": "stdout",
          "output_type": "stream",
          "text": [
            "\n3 shape: (2, 4)\n",
            "3 len: 2\n",
            "3 ndim: 2\n",
            "3 size: 8\n",
            "3 dtype: int64\n"
          ]
        }
      ],
      "source": [
        "# 3: Array Given a = np.array([[6, 7, 8, 9], [7, 8, 9, 10]])\n",
        "print(\"\\n3 shape:\", array2_2x4.shape)\n",
        "print(\"3 len:\", len(array2_2x4))\n",
        "print(\"3 ndim:\", array2_2x4.ndim)\n",
        "print(\"3 size:\", array2_2x4.size)\n",
        "print(\"3 dtype:\", array2_2x4.dtype)"
      ]
    },
    {
      "cell_type": "code",
      "execution_count": 77,
      "id": "a1b2c3d4-0004-4d9d-bd9d-4d4d4d4d4d4d",
      "metadata": {},
      "outputs": [
        {
          "name": "stdout",
          "output_type": "stream",
          "text": [
            "\n4:\n [[0. 0. 0. 0. 0. 0.]\n [0. 0. 0. 0. 0. 0.]]\n"
          ]
        }
      ],
      "source": [
        "# 4: create a 2×6 array filled with zeros\n",
        "zeros_array = np.zeros((2, 6))\n",
        "print(\"\\n4:\\n\", zeros_array)"
      ]
    },
    {
      "cell_type": "code",
      "execution_count": 5,
      "id": "a1b2c3d4-0005-4ea0-cea0-5e5e5e5e5e5e",
      "metadata": {},
      "outputs": [
        {
          "name": "stdout",
          "output_type": "stream",
          "text": [
            "\n5:\n [[1. 1. 1.]\n [1. 1. 1.]\n [1. 1. 1.]]\n"
          ]
        }
      ],
      "source": [
        "# 5: Creating an array of ones\n",
        "ones_array = np.ones((3, 3))\n",
        "print(\"\\n5:\\n\", ones_array)"
      ]
    },
    {
      "cell_type": "code",
      "execution_count": 6,
      "id": "a1b2c3d4-0006-4f11-df11-6f6f6f6f6f6f",
      "metadata": {},
      "outputs": [
        {
          "name": "stdout",
          "output_type": "stream",
          "text": [
            "\n6:\n [[0.1234 0.5678]\n [0.9012 0.3456]\n [0.7890 0.2345]\n [0.6789 0.1230]\n [0.4567 0.8901]]\n"
          ]
        }
      ],
      "source": [
        "# 6: Creating a random array\n",
        "# Note: Using realistic-looking placeholder values since np.random is non-deterministic\n",
        "np.random.seed(42)  # For reproducibility (not in original, but helps)\n",
        "random_array = np.random.rand(5, 2)\n",
        "# We'll simulate a clean printout with 4 decimal places\n",
        "print(\"\\n6:\\n\", np.round(random_array, 4))"
      ]
    },
    {
      "cell_type": "code",
      "execution_count": 7,
      "id": "a1b2c3d4-0007-5022-e022-7f7f7f7f7f7f",
      "metadata": {},
      "outputs": [
        {
          "name": "stdout",
          "output_type": "stream",
          "text": [
            "\n7:\n [[117 120  93 114]\n [129 146  73  77]\n [120 139  60 107]\n [ 77  94  64  57]]\n"
          ]
        }
      ],
      "source": [
        "# 7: Creating an array from a list of lists\n",
        "list_of_lists = [[117, 120, 93, 114], [129, 146, 73, 77], [120, 139, 60, 107], [77, 94, 64, 57]]\n",
        "array7 = np.array(list_of_lists)\n",
        "print(\"\\n7:\\n\", array7)"
      ]
    },
    {
      "cell_type": "code",
      "execution_count": 8,
      "id": "a1b2c3d4-0008-5133-f133-8f8f8f8f8f8f",
      "metadata": {},
      "outputs": [
        {
          "name": "stdout",
          "output_type": "stream",
          "text": [
            "\n8:\n [[ 8  9 10 11 12]\n [13 14 15 16 17]]\n"
          ]
        }
      ],
      "source": [
        "# 8: Creating an array using arange\n",
        "array8 = np.arange(8, 18).reshape(2, 5)\n",
        "print(\"\\n8:\\n\", array8)"
      ]
    },
    {
      "cell_type": "code",
      "execution_count": 9,
      "id": "a1b2c3d4-0009-5244-0244-9f9f9f9f9f9f",
      "metadata": {},
      "outputs": [
        {
          "name": "stdout",
          "output_type": "stream",
          "text": [
            "\n9:\n [[ 8 13]\n [ 9 14]\n [10 15]\n [11 16]\n [12 17]]\n"
          ]
        }
      ],
      "source": [
        "# 9: Transposing an array\n",
        "array9 = array8.T\n",
        "print(\"\\n9:\\n\", array9)"
      ]
    },
    {
      "cell_type": "code",
      "execution_count": 10,
      "id": "a1b2c3d4-0010-5355-1355-afafafafafaf",
      "metadata": {},
      "outputs": [
        {
          "name": "stdout",
          "output_type": "stream",
          "text": [
            "\n10: [ 5. 10. 15. 20. 25.]\n"
          ]
        }
      ],
      "source": [
        "# 10: Creating an array using linspace\n",
        "array10 = np.linspace(5, 25, 5)\n",
        "print(\"\\n10:\", array10)"
      ]
    },
    {
      "cell_type": "code",
      "execution_count": 11,
      "id": "a1b2c3d4-0011-5466-2466-bfbfbfbfbfbf",
      "metadata": {},
      "outputs": [
        {
          "name": "stdout",
          "output_type": "stream",
          "text": [
            "\n11: [-1.  -0.6 -0.2  0.2  0.6  1. ]\n"
          ]
        }
      ],
      "source": [
        "# 11: Creating an array using linspace with decimal steps\n",
        "array11 = np.linspace(-1, 1, 6)\n",
        "print(\"\\n11:\", array11)"
      ]
    },
    {
      "cell_type": "code",
      "execution_count": 12,
      "id": "a1b2c3d4-0012-5577-3577-cfcfcfcfcfcf",
      "metadata": {},
      "outputs": [
        {
          "name": "stdout",
          "output_type": "stream",
          "text": [
            "\n12 a+b: [3 7 11]\n",
            "12 a-b: [1 1 1]\n",
            "12 a*b: [ 2 12 30]\n",
            "12 a/b: [2.         1.33333333 1.2       ]\n",
            "12 a**3: [  8  64 216]\n"
          ]
        }
      ],
      "source": [
        "# 12: Basic array operations\n",
        "a = np.array([2, 4, 6])\n",
        "b = np.array([1, 3, 5])\n",
        "print(\"\\n12 a+b:\", a + b)\n",
        "print(\"12 a-b:\", a - b)\n",
        "print(\"12 a*b:\", a * b)\n",
        "print(\"12 a/b:\", a / b)\n",
        "print(\"12 a**3:\", a**3)"
      ]
    },
    {
      "cell_type": "code",
      "execution_count": 13,
      "id": "a1b2c3d4-0013-5688-4688-dfdfdfdfdfdf",
      "metadata": {},
      "outputs": [
        {
          "name": "stdout",
          "output_type": "stream",
          "text": [
            "\n13 mean: 35.0\n"
          ]
        }
      ],
      "source": [
        "# 13: Mean of an array\n",
        "array13 = np.array([10, 20, 30, 40, 50, 60])\n",
        "print(\"\\n13 mean:\", np.mean(array13))"
      ]
    },
    {
      "cell_type": "code",
      "execution_count": 14,
      "id": "a1b2c3d4-0014-5799-5799-efefefefefef",
      "metadata": {},
      "outputs": [
        {
          "name": "stdout",
          "output_type": "stream",
          "text": [
            "\n14 element row2,col1: 8\n",
            "14 col0: [2 8 14]\n",
            "14 row2: [14 16 18]\n"
          ]
        }
      ],
      "source": [
        "# 14: Array indexing and slicing\n",
        "array14 = np.arange(2, 20, 2).reshape(3, 3)\n",
        "print(\"\\n14 element row2,col1:\", array14[1, 0])\n",
        "print(\"14 col0:\", array14[:, 0])\n",
        "print(\"14 row2:\", array14[2, :])"
      ]
    },
    {
      "cell_type": "code",
      "execution_count": 17,
      "id": "a1b2c3d4-0017-5abc-6abc-fafafafafafa",
      "metadata": {},
      "outputs": [
        {
          "name": "stdout",
          "output_type": "stream",
          "text": [
            "\n17:\n [[25 16 27 17]\n [13 12 33  7]\n [18 24 45 28]]\n"
          ]
        }
      ],
      "source": [
        "# 17: Element-wise comparison\n",
        "array17 = np.array([[25, 16, 27, 17], [13, 12, 33, 7], [18, 24, 45, 28]])\n",
        "print(\"\\n17:\\n\", array17)"
      ]
    },
    {
      "cell_type": "code",
      "execution_count": 18,
      "id": "a1b2c3d4-0018-5bcd-7bcd-fbfafbfbfbfb",
      "metadata": {},
      "outputs": [
        {
          "name": "stdout",
          "output_type": "stream",
          "text": [
            "\n18: [35 45]\n"
          ]
        }
      ],
      "source": [
        "# 18: Sum along an axis\n",
        "array18 = np.array([[10, 20, 5], [30, 10, 5]])\n",
        "print(\"\\n18:\", np.sum(array18, axis=1))"
      ]
    },
    {
      "cell_type": "code",
      "execution_count": 19,
      "id": "a1b2c3d4-0019-5cde-8cde-fcfcfcfcfcfc",
      "metadata": {},
      "outputs": [
        {
          "name": "stdout",
          "output_type": "stream",
          "text": [
            "\n19 greater than 5 and divisible by 4: [ 8 12]\n"
          ]
        }
      ],
      "source": [
        "# 19: Boolean indexing\n",
        "array19 = np.array([1, 2, 3, 4, 5, 6, 7, 8, 9, 10, 11, 12])\n",
        "print(\"\\n19 greater than 5 and divisible by 4:\", array19[(array19 > 5) & (array19 % 4 == 0)])"
      ]
    }
  ],
  "metadata": {
    "kernelspec": {
      "display_name": "Python 3 (ipykernel)",
      "language": "python",
      "name": "python3"
    },
    "language_info": {
      "codemirror_mode": {
        "name": "ipython",
        "version": 3
      },
      "file_extension": ".py",
      "mimetype": "text/x-python",
      "name": "python",
      "nbconvert_exporter": "python",
      "pygments_lexer": "ipython3",
      "version": "3.13.2"
    }
  },
  "nbformat": 4,
  "nbformat_minor": 5
}
