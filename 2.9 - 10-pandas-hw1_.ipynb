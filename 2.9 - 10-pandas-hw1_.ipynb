{
 "cells": [
  {
   "cell_type": "code",
   "execution_count": 2,
   "id": "71c9cf42-198d-4703-9f6d-73293b23197d",
   "metadata": {},
   "outputs": [
    {
     "name": "stdout",
     "output_type": "stream",
     "text": [
      "      Name  Age  Salary Department\n",
      "0    Alice   25   50000         HR\n",
      "1      Bob   30   60000         IT\n",
      "2  Charlie   35   75000    Finance\n",
      "3    Diana   28   62000         IT\n",
      "4     Evan   40   80000         HR\n"
     ]
    }
   ],
   "source": [
    "# 1 - create dataframe\n",
    "\n",
    "import pandas as pd\n",
    "\n",
    "data = {\n",
    "    \"Name\": [\"Alice\", \"Bob\", \"Charlie\", \"Diana\", \"Evan\"],\n",
    "    \"Age\": [25, 30, 35, 28, 40],\n",
    "    \"Salary\": [50000, 60000, 75000, 62000, 80000],\n",
    "    \"Department\": [\"HR\", \"IT\", \"Finance\", \"IT\", \"HR\"]\n",
    "}\n",
    "\n",
    "df = pd.DataFrame(data)\n",
    "print(df)"
   ]
  },
  {
   "cell_type": "code",
   "execution_count": 5,
   "id": "328a4c42-972c-4a9b-8831-89da4031077e",
   "metadata": {},
   "outputs": [
    {
     "name": "stdout",
     "output_type": "stream",
     "text": [
      "      Name  Salary\n",
      "0    Alice   50000\n",
      "1      Bob   60000\n",
      "2  Charlie   75000\n"
     ]
    }
   ],
   "source": [
    "# 1.select rows and columns with .iloc\n",
    "# first 3 rows, only the name and salary columns\n",
    "\n",
    "selected = df.iloc[:3][[\"Name\", \"Salary\"]]\n",
    "print(selected)"
   ]
  },
  {
   "cell_type": "code",
   "execution_count": 7,
   "id": "8a0d0559-302a-45fc-a131-686914855309",
   "metadata": {},
   "outputs": [
    {
     "name": "stdout",
     "output_type": "stream",
     "text": [
      "      Name  Age  Salary Department   Bonus\n",
      "0    Alice   25   50000         HR  5000.0\n",
      "1      Bob   30   60000         IT  6000.0\n",
      "2  Charlie   35   75000    Finance  7500.0\n",
      "3    Diana   28   62000         IT  6200.0\n",
      "4     Evan   40   80000         HR  8000.0\n"
     ]
    }
   ],
   "source": [
    "# 2.add a new calculated column\n",
    "\n",
    "# create a column bonus that is 10% of the Salary\n",
    "\n",
    "df[\"Bonus\"] = df[\"Salary\"] * 0.10\n",
    "print(df)"
   ]
  },
  {
   "cell_type": "code",
   "execution_count": 8,
   "id": "59fb766a-702c-4f91-9f4f-89bd890877c9",
   "metadata": {},
   "outputs": [
    {
     "name": "stdout",
     "output_type": "stream",
     "text": [
      "         Salary Department\n",
      "Name                      \n",
      "Bob       60000         IT\n",
      "Charlie   75000    Finance\n",
      "Diana     62000         IT\n",
      "\n",
      "      Name  Age  Salary Department   Bonus\n",
      "0    Alice   25   50000         HR  5000.0\n",
      "1      Bob   30   60000         IT  6000.0\n",
      "2  Charlie   35   75000    Finance  7500.0\n",
      "3    Diana   28   62000         IT  6200.0\n",
      "4     Evan   40   80000         HR  8000.0\n"
     ]
    }
   ],
   "source": [
    "# 3.change the index\n",
    "\n",
    "# set the name column as the new index\n",
    "df_indexed = df.set_index(\"Name\")\n",
    "print(df_indexed.loc[\"Bob\":\"Diana\", [\"Salary\", \"Department\"]])\n",
    "\n",
    "print()\n",
    "\n",
    "# reset to default numeric index\n",
    "df_reset = df_indexed.reset_index()\n",
    "print(df_reset)"
   ]
  }
 ],
 "metadata": {
  "kernelspec": {
   "display_name": "Python 3 (ipykernel)",
   "language": "python",
   "name": "python3"
  },
  "language_info": {
   "codemirror_mode": {
    "name": "ipython",
    "version": 3
   },
   "file_extension": ".py",
   "mimetype": "text/x-python",
   "name": "python",
   "nbconvert_exporter": "python",
   "pygments_lexer": "ipython3",
   "version": "3.13.2"
  }
 },
 "nbformat": 4,
 "nbformat_minor": 5
}
