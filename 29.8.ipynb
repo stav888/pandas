{
  "1": {
    "description": "create a numpy array from the list [10, 20, 30, 40]",
    "code": "arr1 = np.array([10, 20, 30, 40])",
    "result": "print(arr1)\nprint()"
  },
  "2": {
    "description": "reshape the array np.array([2, 4, 6, 8, 10, 12, 14, 16]) into (4,2) and (2,4)",
    "code": "arr2 = np.array([2, 4, 6, 8, 10, 12, 14, 16])\narr2_4x2 = arr2.reshape(4, 2)\narr2_2x4 = arr2.reshape(2, 4)",
    "result": "print(arr2_4x2)\nprint(arr2_2x4)\nprint()"
  },
  "3": {
    "description": "given a = np.array([[6, 7, 8, 9], [7, 8, 9, 10]]), print shape, len, ndim, size, dtype",
    "code": "a3 = np.array([[6, 7, 8, 9], [7, 8, 9, 10]])",
    "result": "print(a3.shape)\nprint(len(a3))\nprint(a3.ndim)\nprint(a3.size)\nprint(a3.dtype)\nprint()"
  },
  "4": {
    "description": "create a 2x6 array filled with zeros",
    "code": "arr4 = np.zeros((2, 6))",
    "result": "print(arr4)\nprint()"
  },
  "5": {
    "description": "create a 3x3 array filled with ones",
    "code": "arr5 = np.ones((3, 3))",
    "result": "print(arr5)\nprint()"
  },
  "6": {
    "description": "create a 5x2 array with random floats between 0 and 1",
    "code": "arr6 = np.random.rand(5, 2)",
    "result": "print(arr6)\nprint()"
  },
  "7": {
    "description": "create a 4x4 array with random integers between 50 and 150",
    "code": "arr7 = np.random.randint(50, 151, (4, 4))",
    "result": "print(arr7)\nprint()"
  },
  "8": {
    "description": "using np.random.seed(7), generate a 2x5 array of random integers between 5 and 20",
    "code": "np.random.seed(7)\narr8 = np.random.randint(5, 21, (2, 5))",
    "result": "print(arr8)\nprint()"
  },
  "9": {
    "description": "reshape the array from question 8 into shape (5, 2)",
    "code": "arr9 = arr8.reshape(5, 2)",
    "result": "print(arr9)\nprint()"
  },
  "10": {
    "description": "create a 1d array of numbers from 5 to 25 with step size 5",
    "code": "arr10 = np.arange(5, 26, 5)",
    "result": "print(arr10)\nprint()"
  },
  "11": {
    "description": "create an array of 6 equally spaced numbers between -1 and 1",
    "code": "arr11 = np.linspace(-1, 1, 6)",
    "result": "print(arr11)\nprint()"
  },
  "12": {
    "description": "given a = np.array([2, 4, 6]) and b = np.array([1, 3, 5]), compute operations",
    "code": "a12 = np.array([2, 4, 6])\nb12 = np.array([1, 3, 5])",
    "result": "print(a12 + b12)\nprint(a12 - b12)\nprint(a12 * b12)\nprint(a12 / b12)\nprint(a12 ** 3)\nprint()"
  },
  "13": {
    "description": "given a = np.array([2, 4, 6, 100]), compute the mean",
    "code": "a13 = np.array([2, 4, 6, 100])",
    "result": "print(np.mean(a13))\nprint()"
  },
  "14": {
    "description": "from the array B = np.array([[2, 4, 6], [8, 10, 12], [14, 16, 18]]), extract elements",
    "code": "B14 = np.array([[2, 4, 6], [8, 10, 12], [14, 16, 18]])\nelem_row2_col1 = B14[2, 1]\ncol0 = B14[:, 0]\nrow2 = B14[2, :]",
    "result": "print(elem_row2_col1)\nprint(col0)\nprint(row2)\nprint()"
  },
  "17": {
    "description": "generate a 3x4 array of random integers between 0 and 50 with np.random.seed(11)",
    "code": "np.random.seed(11)\narr17 = np.random.randint(0, 51, (3, 4))",
    "result": "print(arr17)\nprint()"
  },
  "18": {
    "description": "from a = np.array([5, 15, 25, 35, 45]), extract all values greater than the mean",
    "code": "a18 = np.array([5, 15, 25, 35, 45])\nmean18 = np.mean(a18)\ngreater_than_mean = a18[a18 > mean18]",
    "result": "print(greater_than_mean)\nprint()"
  },
  "19": {
    "description": "given a = np.array([2, 4, 6, 8, 10, 12]), extract as specified",
    "code": "a19 = np.array([2, 4, 6, 8, 10, 12])\ngt5_div4 = a19[(a19 > 5) & (a19 % 4 == 0)]\nlt5_gt9 = a19[(a19 < 5) | (a19 > 9)]\nnot_gt7 = a19[~(a19 > 7)]",
    "result": "print(gt5_div4)\nprint(lt5_gt9)\nprint(not_gt7)\nprint()"
  },
  "20": {
    "description": "given a = np.array([42, 7, 19, 88]), find indices of min and max",
    "code": "a20 = np.array([42, 7, 19, 88])\nidx_min = np.argmin(a20)\nidx_max = np.argmax(a20)",
    "result": "print(idx_min)\nprint(idx_max)\nprint()"
  }
}
