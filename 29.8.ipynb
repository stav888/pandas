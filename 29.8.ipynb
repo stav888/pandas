{
 "cells": [
  {
   "cell_type": "code",
   "metadata": {},
   "execution_count": null,
   "outputs": [],
   "source": [
    "import numpy as np\n"
   ]
  },
  {
   "cell_type": "code",
   "metadata": {},
   "execution_count": null,
   "outputs": [],
   "source": [
    "# 1. create a numpy array from the list [10, 20, 30, 40]\n",
    "arr1 = np.array([10, 20, 30, 40])\n",
    "print(arr1)\n",
    "print()"
   ]
  },
  {
   "cell_type": "code",
   "metadata": {},
   "execution_count": null,
   "outputs": [],
   "source": [
    "# 2. reshape the array np.array([2, 4, 6, 8, 10, 12, 14, 16]) into (4,2) and (2,4)\n",
    "arr2 = np.array([2, 4, 6, 8, 10, 12, 14, 16])\n",
    "arr2_4x2 = arr2.reshape(4, 2)\n",
    "arr2_2x4 = arr2.reshape(2, 4)\n",
    "print(arr2_4x2)\n",
    "print(arr2_2x4)\n",
    "print()"
   ]
  },
  {
   "cell_type": "code",
   "metadata": {},
   "execution_count": null,
   "outputs": [],
   "source": [
    "# 3. given a = np.array([[6, 7, 8, 9], [7, 8, 9, 10]]), print shape, len, ndim, size, dtype\n",
    "a3 = np.array([[6, 7, 8, 9], [7, 8, 9, 10]])\n",
    "print(a3.shape)\n",
    "print(len(a3))\n",
    "print(a3.ndim)\n",
    "print(a3.size)\n",
    "print(a3.dtype)\n",
    "print()"
   ]
  },
  {
   "cell_type": "code",
   "metadata": {},
   "execution_count": null,
   "outputs": [],
   "source": [
    "# 4. create a 2x6 array filled with zeros\n",
    "arr4 = np.zeros((2, 6))\n",
    "print(arr4)\n",
    "print()"
   ]
  },
  {
   "cell_type": "code",
   "metadata": {},
   "execution_count": null,
   "outputs": [],
   "source": [
    "# 5. create a 3x3 array filled with ones\n",
    "arr5 = np.ones((3, 3))\n",
    "print(arr5)\n",
    "print()"
   ]
  },
  {
   "cell_type": "code",
   "metadata": {},
   "execution_count": null,
   "outputs": [],
   "source": [
    "# 6. create a 5x2 array with random floats between 0 and 1\n",
    "arr6 = np.random.rand(5, 2)\n",
    "print(arr6)\n",
    "print()"
   ]
  },
  {
   "cell_type": "code",
   "metadata": {},
   "execution_count": null,
   "outputs": [],
   "source": [
    "# 7. create a 4x4 array with random integers between 50 and 150\n",
    "arr7 = np.random.randint(50, 151, (4, 4))\n",
    "print(arr7)\n",
    "print()"
   ]
  },
  {
   "cell_type": "code",
   "metadata": {},
   "execution_count": null,
   "outputs": [],
   "source": [
    "# 8. using np.random.seed(7), generate a 2x5 array of random integers between 5 and 20\n",
    "np.random.seed(7)\n",
    "arr8 = np.random.randint(5, 21, (2, 5))\n",
    "print(arr8)\n",
    "print()"
   ]
  },
  {
   "cell_type": "code",
   "metadata": {},
   "execution_count": null,
   "outputs": [],
   "source": [
    "# 9. reshape the array from question 8 into shape (5, 2)\n",
    "arr9 = arr8.reshape(5, 2)\n",
    "print(arr9)\n",
    "print()"
   ]
  },
  {
   "cell_type": "code",
   "metadata": {},
   "execution_count": null,
   "outputs": [],
   "source": [
    "# 10. create a 1d array of numbers from 5 to 25 with step size 5\n",
    "arr10 = np.arange(5, 26, 5)\n",
    "print(arr10)\n",
    "print()"
   ]
  },
  {
   "cell_type": "code",
   "metadata": {},
   "execution_count": null,
   "outputs": [],
   "source": [
    "# 11. create an array of 6 equally spaced numbers between -1 and 1\n",
    "arr11 = np.linspace(-1, 1, 6)\n",
    "print(arr11)\n",
    "print()"
   ]
  },
  {
   "cell_type": "code",
   "metadata": {},
   "execution_count": null,
   "outputs": [],
   "source": [
    "# 12. given a = np.array([2, 4, 6]) and b = np.array([1, 3, 5]), compute operations\n",
    "a12 = np.array([2, 4, 6])\n",
    "b12 = np.array([1, 3, 5])\n",
    "print(a12 + b12)\n",
    "print(a12 - b12)\n",
    "print(a12 * b12)\n",
    "print(a12 / b12)\n",
    "print(a12 ** 3)\n",
    "print()"
   ]
  },
  {
   "cell_type": "code",
   "metadata": {},
   "execution_count": null,
   "outputs": [],
   "source": [
    "# 13. given a = np.array([2, 4, 6, 100]), compute the mean\n",
    "a13 = np.array([2, 4, 6, 100])\n",
    "print(np.mean(a13))\n",
    "print()"
   ]
  },
  {
   "cell_type": "code",
   "metadata": {},
   "execution_count": null,
   "outputs": [],
   "source": [
    "# 14. from the array B = np.array([[2, 4, 6], [8, 10, 12], [14, 16, 18]]), extract elements\n",
    "B14 = np.array([[2, 4, 6], [8, 10, 12], [14, 16, 18]])\n",
    "elem_row2_col1 = B14[2, 1]\n",
    "col0 = B14[:, 0]\n",
    "row2 = B14[2, :]\n",
    "print(elem_row2_col1)\n",
    "print(col0)\n",
    "print(row2)\n",
    "print()"
   ]
  },
  {
   "cell_type": "code",
   "metadata": {},
   "execution_count": null,
   "outputs": [],
   "source": [
    "# 17. generate a 3x4 array of random integers between 0 and 50 with np.random.seed(11)\n",
    "np.random.seed(11)\n",
    "arr17 = np.random.randint(0, 51, (3, 4))\n",
    "print(arr17)\n",
    "print()"
   ]
  },
  {
   "cell_type": "code",
   "metadata": {},
   "execution_count": null,
   "outputs": [],
   "source": [
    "# 18. from a = np.array([5, 15, 25, 35, 45]), extract all values greater than the mean\n",
    "a18 = np.array([5, 15, 25, 35, 45])\n",
    "mean18 = np.mean(a18)\n",
    "greater_than_mean = a18[a18 > mean18]\n",
    "print(greater_than_mean)\n",
    "print()"
   ]
  },
  {
   "cell_type": "code",
   "metadata": {},
   "execution_count": null,
   "outputs": [],
   "source": [
    "# 19. given a = np.array([2, 4, 6, 8, 10, 12]), extract:\n",
    "a19 = np.array([2, 4, 6, 8, 10, 12])\n",
    "gt5_div4 = a19[(a19 > 5) & (a19 % 4 == 0)]\n",
    "lt5_gt9 = a19[(a19 < 5) | (a19 > 9)]\n",
    "not_gt7 = a19[~(a19 > 7)]\n",
    "print(gt5_div4)\n",
    "print(lt5_gt9)\n",
    "print(not_gt7)\n",
    "print()"
   ]
  },
  {
   "cell_type": "code",
   "metadata": {},
   "execution_count": null,
   "outputs": [],
   "source": [
    "# 20. given a = np.array([42, 7, 19, 88]), find indices of min and max\n",
    "a20 = np.array([42, 7, 19, 88])\n",
    "idx_min = np.argmin(a20)\n",
    "idx_max = np.argmax(a20)\n",
    "print(idx_min)\n",
    "print(idx_max)\n",
    "print()"
   ]
  }
 ],
 "metadata": {
  "kernelspec": {
   "display_name": "Python 3",
   "language": "python",
   "name": "python3"
  },
  "language_info": {
   "name": "python",
   "version": "3.8"
  }
 },
 "nbformat": 4,
 "nbformat_minor": 5
}
