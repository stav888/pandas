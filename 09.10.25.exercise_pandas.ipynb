{
  "metadata": {
    "kernelspec": {
      "name": "python",
      "display_name": "Python (Pyodide)",
      "language": "python"
    },
    "language_info": {
      "codemirror_mode": {
        "name": "python",
        "version": 3
      },
      "file_extension": ".py",
      "mimetype": "text/x-python",
      "name": "python",
      "nbconvert_exporter": "python",
      "pygments_lexer": "ipython3",
      "version": "3.8"
    }
  },
  "nbformat_minor": 5,
  "nbformat": 4,
  "cells": [
    {
      "id": "310d3747-9fb9-4081-bf00-95821c8da9a4",
      "cell_type": "code",
      "source": "    #1\n\nimport pandas as pd\n\nbooks_df = pd.read_csv('books.csv')\n\nduplicates = books_df[books_df.duplicated(subset='catalog_number', keep=False)]\n\nsorted_duplicates = duplicates.sort_values(by='catalog_number')\n\nsorted_duplicates",
      "metadata": {
        "trusted": true
      },
      "outputs": [
        {
          "execution_count": 53,
          "output_type": "execute_result",
          "data": {
            "text/plain": "    book_id        author_name                                   title  \\\n32    53783                NaN                           Broken Chains   \n33    20274        James Mejia         Broken Chains - Special Edition   \n34    50753  Tiffany Davenport                            Paths Unseen   \n35    58871  Tiffany Davenport                                     NaN   \n36    86910   Timothy Trujillo                        The Hidden Truth   \n37    77386   Timothy Trujillo      The Hidden Truth - Special Edition   \n38    58633                NaN                                     NaN   \n39    44065       Victor Burke   The Edge of Reality - Special Edition   \n40    45824                NaN                         Winds of Change   \n41    87457      Tiffany Mcgee       Winds of Change - Special Edition   \n42    46818       Jared Thomas                                     NaN   \n43    26735       Jared Thomas    Voices in the Dark - Special Edition   \n44    92800     Brendan Mosley                                     NaN   \n45    39188     Brendan Mosley  Memories of Tomorrow - Special Edition   \n46    38900         Ryan Banks                          River of Stars   \n47    44790         Ryan Banks                                     NaN   \n\n    publication_year catalog_number  \n32            1982.0       CAT-2001  \n33            1982.0       CAT-2001  \n34            2009.0       CAT-2002  \n35            2009.0       CAT-2002  \n36               NaN       CAT-2003  \n37            1983.0       CAT-2003  \n38            1984.0       CAT-2004  \n39            1985.0       CAT-2004  \n40            1994.0       CAT-2005  \n41            1995.0       CAT-2005  \n42            2020.0       CAT-2006  \n43            2019.0       CAT-2006  \n44            2016.0       CAT-2007  \n45            2017.0       CAT-2007  \n46            1993.0       CAT-2008  \n47            1992.0       CAT-2008  ",
            "text/html": "<div>\n<style scoped>\n    .dataframe tbody tr th:only-of-type {\n        vertical-align: middle;\n    }\n\n    .dataframe tbody tr th {\n        vertical-align: top;\n    }\n\n    .dataframe thead th {\n        text-align: right;\n    }\n</style>\n<table border=\"1\" class=\"dataframe\">\n  <thead>\n    <tr style=\"text-align: right;\">\n      <th></th>\n      <th>book_id</th>\n      <th>author_name</th>\n      <th>title</th>\n      <th>publication_year</th>\n      <th>catalog_number</th>\n    </tr>\n  </thead>\n  <tbody>\n    <tr>\n      <th>32</th>\n      <td>53783</td>\n      <td>NaN</td>\n      <td>Broken Chains</td>\n      <td>1982.0</td>\n      <td>CAT-2001</td>\n    </tr>\n    <tr>\n      <th>33</th>\n      <td>20274</td>\n      <td>James Mejia</td>\n      <td>Broken Chains - Special Edition</td>\n      <td>1982.0</td>\n      <td>CAT-2001</td>\n    </tr>\n    <tr>\n      <th>34</th>\n      <td>50753</td>\n      <td>Tiffany Davenport</td>\n      <td>Paths Unseen</td>\n      <td>2009.0</td>\n      <td>CAT-2002</td>\n    </tr>\n    <tr>\n      <th>35</th>\n      <td>58871</td>\n      <td>Tiffany Davenport</td>\n      <td>NaN</td>\n      <td>2009.0</td>\n      <td>CAT-2002</td>\n    </tr>\n    <tr>\n      <th>36</th>\n      <td>86910</td>\n      <td>Timothy Trujillo</td>\n      <td>The Hidden Truth</td>\n      <td>NaN</td>\n      <td>CAT-2003</td>\n    </tr>\n    <tr>\n      <th>37</th>\n      <td>77386</td>\n      <td>Timothy Trujillo</td>\n      <td>The Hidden Truth - Special Edition</td>\n      <td>1983.0</td>\n      <td>CAT-2003</td>\n    </tr>\n    <tr>\n      <th>38</th>\n      <td>58633</td>\n      <td>NaN</td>\n      <td>NaN</td>\n      <td>1984.0</td>\n      <td>CAT-2004</td>\n    </tr>\n    <tr>\n      <th>39</th>\n      <td>44065</td>\n      <td>Victor Burke</td>\n      <td>The Edge of Reality - Special Edition</td>\n      <td>1985.0</td>\n      <td>CAT-2004</td>\n    </tr>\n    <tr>\n      <th>40</th>\n      <td>45824</td>\n      <td>NaN</td>\n      <td>Winds of Change</td>\n      <td>1994.0</td>\n      <td>CAT-2005</td>\n    </tr>\n    <tr>\n      <th>41</th>\n      <td>87457</td>\n      <td>Tiffany Mcgee</td>\n      <td>Winds of Change - Special Edition</td>\n      <td>1995.0</td>\n      <td>CAT-2005</td>\n    </tr>\n    <tr>\n      <th>42</th>\n      <td>46818</td>\n      <td>Jared Thomas</td>\n      <td>NaN</td>\n      <td>2020.0</td>\n      <td>CAT-2006</td>\n    </tr>\n    <tr>\n      <th>43</th>\n      <td>26735</td>\n      <td>Jared Thomas</td>\n      <td>Voices in the Dark - Special Edition</td>\n      <td>2019.0</td>\n      <td>CAT-2006</td>\n    </tr>\n    <tr>\n      <th>44</th>\n      <td>92800</td>\n      <td>Brendan Mosley</td>\n      <td>NaN</td>\n      <td>2016.0</td>\n      <td>CAT-2007</td>\n    </tr>\n    <tr>\n      <th>45</th>\n      <td>39188</td>\n      <td>Brendan Mosley</td>\n      <td>Memories of Tomorrow - Special Edition</td>\n      <td>2017.0</td>\n      <td>CAT-2007</td>\n    </tr>\n    <tr>\n      <th>46</th>\n      <td>38900</td>\n      <td>Ryan Banks</td>\n      <td>River of Stars</td>\n      <td>1993.0</td>\n      <td>CAT-2008</td>\n    </tr>\n    <tr>\n      <th>47</th>\n      <td>44790</td>\n      <td>Ryan Banks</td>\n      <td>NaN</td>\n      <td>1992.0</td>\n      <td>CAT-2008</td>\n    </tr>\n  </tbody>\n</table>\n</div>"
          },
          "metadata": {}
        }
      ],
      "execution_count": 53
    },
    {
      "id": "583e29d9-9059-4984-adde-3e4d24878fb0",
      "cell_type": "code",
      "source": "    #2\n\nimport pandas as pd\n\nbooks_df = pd.read_csv('books.csv')\n\nduplicates = books_df[books_df.duplicated(subset='catalog_number', keep=False)].copy()\n\nduplicates.loc[:, 'non_nan_count'] = duplicates.notna().sum(axis=1)\n\nsorted_duplicates = duplicates.sort_values(by='catalog_number')\n\nsorted_duplicates",
      "metadata": {
        "trusted": true
      },
      "outputs": [
        {
          "execution_count": 54,
          "output_type": "execute_result",
          "data": {
            "text/plain": "    book_id        author_name                                   title  \\\n32    53783                NaN                           Broken Chains   \n33    20274        James Mejia         Broken Chains - Special Edition   \n34    50753  Tiffany Davenport                            Paths Unseen   \n35    58871  Tiffany Davenport                                     NaN   \n36    86910   Timothy Trujillo                        The Hidden Truth   \n37    77386   Timothy Trujillo      The Hidden Truth - Special Edition   \n38    58633                NaN                                     NaN   \n39    44065       Victor Burke   The Edge of Reality - Special Edition   \n40    45824                NaN                         Winds of Change   \n41    87457      Tiffany Mcgee       Winds of Change - Special Edition   \n42    46818       Jared Thomas                                     NaN   \n43    26735       Jared Thomas    Voices in the Dark - Special Edition   \n44    92800     Brendan Mosley                                     NaN   \n45    39188     Brendan Mosley  Memories of Tomorrow - Special Edition   \n46    38900         Ryan Banks                          River of Stars   \n47    44790         Ryan Banks                                     NaN   \n\n    publication_year catalog_number  non_nan_count  \n32            1982.0       CAT-2001              4  \n33            1982.0       CAT-2001              5  \n34            2009.0       CAT-2002              5  \n35            2009.0       CAT-2002              4  \n36               NaN       CAT-2003              4  \n37            1983.0       CAT-2003              5  \n38            1984.0       CAT-2004              3  \n39            1985.0       CAT-2004              5  \n40            1994.0       CAT-2005              4  \n41            1995.0       CAT-2005              5  \n42            2020.0       CAT-2006              4  \n43            2019.0       CAT-2006              5  \n44            2016.0       CAT-2007              4  \n45            2017.0       CAT-2007              5  \n46            1993.0       CAT-2008              5  \n47            1992.0       CAT-2008              4  ",
            "text/html": "<div>\n<style scoped>\n    .dataframe tbody tr th:only-of-type {\n        vertical-align: middle;\n    }\n\n    .dataframe tbody tr th {\n        vertical-align: top;\n    }\n\n    .dataframe thead th {\n        text-align: right;\n    }\n</style>\n<table border=\"1\" class=\"dataframe\">\n  <thead>\n    <tr style=\"text-align: right;\">\n      <th></th>\n      <th>book_id</th>\n      <th>author_name</th>\n      <th>title</th>\n      <th>publication_year</th>\n      <th>catalog_number</th>\n      <th>non_nan_count</th>\n    </tr>\n  </thead>\n  <tbody>\n    <tr>\n      <th>32</th>\n      <td>53783</td>\n      <td>NaN</td>\n      <td>Broken Chains</td>\n      <td>1982.0</td>\n      <td>CAT-2001</td>\n      <td>4</td>\n    </tr>\n    <tr>\n      <th>33</th>\n      <td>20274</td>\n      <td>James Mejia</td>\n      <td>Broken Chains - Special Edition</td>\n      <td>1982.0</td>\n      <td>CAT-2001</td>\n      <td>5</td>\n    </tr>\n    <tr>\n      <th>34</th>\n      <td>50753</td>\n      <td>Tiffany Davenport</td>\n      <td>Paths Unseen</td>\n      <td>2009.0</td>\n      <td>CAT-2002</td>\n      <td>5</td>\n    </tr>\n    <tr>\n      <th>35</th>\n      <td>58871</td>\n      <td>Tiffany Davenport</td>\n      <td>NaN</td>\n      <td>2009.0</td>\n      <td>CAT-2002</td>\n      <td>4</td>\n    </tr>\n    <tr>\n      <th>36</th>\n      <td>86910</td>\n      <td>Timothy Trujillo</td>\n      <td>The Hidden Truth</td>\n      <td>NaN</td>\n      <td>CAT-2003</td>\n      <td>4</td>\n    </tr>\n    <tr>\n      <th>37</th>\n      <td>77386</td>\n      <td>Timothy Trujillo</td>\n      <td>The Hidden Truth - Special Edition</td>\n      <td>1983.0</td>\n      <td>CAT-2003</td>\n      <td>5</td>\n    </tr>\n    <tr>\n      <th>38</th>\n      <td>58633</td>\n      <td>NaN</td>\n      <td>NaN</td>\n      <td>1984.0</td>\n      <td>CAT-2004</td>\n      <td>3</td>\n    </tr>\n    <tr>\n      <th>39</th>\n      <td>44065</td>\n      <td>Victor Burke</td>\n      <td>The Edge of Reality - Special Edition</td>\n      <td>1985.0</td>\n      <td>CAT-2004</td>\n      <td>5</td>\n    </tr>\n    <tr>\n      <th>40</th>\n      <td>45824</td>\n      <td>NaN</td>\n      <td>Winds of Change</td>\n      <td>1994.0</td>\n      <td>CAT-2005</td>\n      <td>4</td>\n    </tr>\n    <tr>\n      <th>41</th>\n      <td>87457</td>\n      <td>Tiffany Mcgee</td>\n      <td>Winds of Change - Special Edition</td>\n      <td>1995.0</td>\n      <td>CAT-2005</td>\n      <td>5</td>\n    </tr>\n    <tr>\n      <th>42</th>\n      <td>46818</td>\n      <td>Jared Thomas</td>\n      <td>NaN</td>\n      <td>2020.0</td>\n      <td>CAT-2006</td>\n      <td>4</td>\n    </tr>\n    <tr>\n      <th>43</th>\n      <td>26735</td>\n      <td>Jared Thomas</td>\n      <td>Voices in the Dark - Special Edition</td>\n      <td>2019.0</td>\n      <td>CAT-2006</td>\n      <td>5</td>\n    </tr>\n    <tr>\n      <th>44</th>\n      <td>92800</td>\n      <td>Brendan Mosley</td>\n      <td>NaN</td>\n      <td>2016.0</td>\n      <td>CAT-2007</td>\n      <td>4</td>\n    </tr>\n    <tr>\n      <th>45</th>\n      <td>39188</td>\n      <td>Brendan Mosley</td>\n      <td>Memories of Tomorrow - Special Edition</td>\n      <td>2017.0</td>\n      <td>CAT-2007</td>\n      <td>5</td>\n    </tr>\n    <tr>\n      <th>46</th>\n      <td>38900</td>\n      <td>Ryan Banks</td>\n      <td>River of Stars</td>\n      <td>1993.0</td>\n      <td>CAT-2008</td>\n      <td>5</td>\n    </tr>\n    <tr>\n      <th>47</th>\n      <td>44790</td>\n      <td>Ryan Banks</td>\n      <td>NaN</td>\n      <td>1992.0</td>\n      <td>CAT-2008</td>\n      <td>4</td>\n    </tr>\n  </tbody>\n</table>\n</div>"
          },
          "metadata": {}
        }
      ],
      "execution_count": 54
    },
    {
      "id": "bdb35975-1314-42e9-bed3-437ab89eeab9",
      "cell_type": "code",
      "source": "    #3\n\nimport pandas as pd\n\nbooks_df = pd.read_csv('books.csv')\n\nduplicates = books_df[books_df.duplicated(subset='catalog_number', keep=False)].copy()\n\nduplicates['non_nan_count'] = duplicates.notna().sum(axis=1)\n\nmost_filled_values = duplicates.sort_values(by='non_nan_count', ascending=False).drop_duplicates(subset='catalog_number', keep='first')\n\nmost_filled_values = best_rows.sort_values(by='catalog_number')\n\nmost_filled_values",
      "metadata": {
        "trusted": true
      },
      "outputs": [
        {
          "execution_count": 55,
          "output_type": "execute_result",
          "data": {
            "text/plain": "    book_id        author_name                                   title  \\\n33    20274        James Mejia         Broken Chains - Special Edition   \n34    50753  Tiffany Davenport                            Paths Unseen   \n37    77386   Timothy Trujillo      The Hidden Truth - Special Edition   \n39    44065       Victor Burke   The Edge of Reality - Special Edition   \n41    87457      Tiffany Mcgee       Winds of Change - Special Edition   \n43    26735       Jared Thomas    Voices in the Dark - Special Edition   \n45    39188     Brendan Mosley  Memories of Tomorrow - Special Edition   \n46    38900         Ryan Banks                          River of Stars   \n\n    publication_year catalog_number  non_nan_count  \n33            1982.0       CAT-2001              5  \n34            2009.0       CAT-2002              5  \n37            1983.0       CAT-2003              5  \n39            1985.0       CAT-2004              5  \n41            1995.0       CAT-2005              5  \n43            2019.0       CAT-2006              5  \n45            2017.0       CAT-2007              5  \n46            1993.0       CAT-2008              5  ",
            "text/html": "<div>\n<style scoped>\n    .dataframe tbody tr th:only-of-type {\n        vertical-align: middle;\n    }\n\n    .dataframe tbody tr th {\n        vertical-align: top;\n    }\n\n    .dataframe thead th {\n        text-align: right;\n    }\n</style>\n<table border=\"1\" class=\"dataframe\">\n  <thead>\n    <tr style=\"text-align: right;\">\n      <th></th>\n      <th>book_id</th>\n      <th>author_name</th>\n      <th>title</th>\n      <th>publication_year</th>\n      <th>catalog_number</th>\n      <th>non_nan_count</th>\n    </tr>\n  </thead>\n  <tbody>\n    <tr>\n      <th>33</th>\n      <td>20274</td>\n      <td>James Mejia</td>\n      <td>Broken Chains - Special Edition</td>\n      <td>1982.0</td>\n      <td>CAT-2001</td>\n      <td>5</td>\n    </tr>\n    <tr>\n      <th>34</th>\n      <td>50753</td>\n      <td>Tiffany Davenport</td>\n      <td>Paths Unseen</td>\n      <td>2009.0</td>\n      <td>CAT-2002</td>\n      <td>5</td>\n    </tr>\n    <tr>\n      <th>37</th>\n      <td>77386</td>\n      <td>Timothy Trujillo</td>\n      <td>The Hidden Truth - Special Edition</td>\n      <td>1983.0</td>\n      <td>CAT-2003</td>\n      <td>5</td>\n    </tr>\n    <tr>\n      <th>39</th>\n      <td>44065</td>\n      <td>Victor Burke</td>\n      <td>The Edge of Reality - Special Edition</td>\n      <td>1985.0</td>\n      <td>CAT-2004</td>\n      <td>5</td>\n    </tr>\n    <tr>\n      <th>41</th>\n      <td>87457</td>\n      <td>Tiffany Mcgee</td>\n      <td>Winds of Change - Special Edition</td>\n      <td>1995.0</td>\n      <td>CAT-2005</td>\n      <td>5</td>\n    </tr>\n    <tr>\n      <th>43</th>\n      <td>26735</td>\n      <td>Jared Thomas</td>\n      <td>Voices in the Dark - Special Edition</td>\n      <td>2019.0</td>\n      <td>CAT-2006</td>\n      <td>5</td>\n    </tr>\n    <tr>\n      <th>45</th>\n      <td>39188</td>\n      <td>Brendan Mosley</td>\n      <td>Memories of Tomorrow - Special Edition</td>\n      <td>2017.0</td>\n      <td>CAT-2007</td>\n      <td>5</td>\n    </tr>\n    <tr>\n      <th>46</th>\n      <td>38900</td>\n      <td>Ryan Banks</td>\n      <td>River of Stars</td>\n      <td>1993.0</td>\n      <td>CAT-2008</td>\n      <td>5</td>\n    </tr>\n  </tbody>\n</table>\n</div>"
          },
          "metadata": {}
        }
      ],
      "execution_count": 55
    },
    {
      "id": "b7c04611-4550-4bed-89f5-dbaf491c6ed1",
      "cell_type": "code",
      "source": "    #4\n\nimport pandas as pd\n\nbooks = pd.read_csv(\"books.csv\")\nsales = pd.read_csv(\"books_sales.csv\")\n\nkept_id_map = books.drop_duplicates(\"catalog_number\")[[\"catalog_number\", \"book_id\"]].set_index(\"catalog_number\")[\"book_id\"]\n\nbook_catalog = books.set_index(\"book_id\")[\"catalog_number\"]\nbook_id_mapping = book_catalog.map(kept_id_map).rename(\"kept_book_id\")\nbook_id_mapping = book_id_mapping.reset_index().rename(columns={\"book_id\": \"original_book_id\"})\n\nreplace_dict = pd.Series(book_id_mapping.kept_book_id.values, index=book_id_mapping.original_book_id).to_dict()\n\nsales[\"book_id\"] = sales[\"book_id\"].map(replace_dict)\n\nsales.to_csv(\"books_sales.updated.csv\", index=False)\nbook_id_mapping.to_csv(\"book_id_mapping.csv\", index=False)",
      "metadata": {
        "trusted": true
      },
      "outputs": [],
      "execution_count": 56
    },
    {
      "id": "d9757dd5-6710-494b-88f5-d8931631a4bf",
      "cell_type": "code",
      "source": "    #5\n\nimport pandas as pd\n\ndeleted_books = duplicates[~duplicates['book_id'].isin(most_filled_values['book_id'])]\n\nmerged_df = deleted_books[['catalog_number', 'book_id']].merge(\n    most_filled_values[['catalog_number', 'book_id']],\n    on='catalog_number',\n    suffixes=('_removed', '_kept')\n)\n\nmerged_df",
      "metadata": {
        "trusted": true
      },
      "outputs": [
        {
          "execution_count": 57,
          "output_type": "execute_result",
          "data": {
            "text/plain": "  catalog_number  book_id_removed  book_id_kept\n0       CAT-2001            53783         20274\n1       CAT-2002            58871         50753\n2       CAT-2003            86910         77386\n3       CAT-2004            58633         44065\n4       CAT-2005            45824         87457\n5       CAT-2006            46818         26735\n6       CAT-2007            92800         39188\n7       CAT-2008            44790         38900",
            "text/html": "<div>\n<style scoped>\n    .dataframe tbody tr th:only-of-type {\n        vertical-align: middle;\n    }\n\n    .dataframe tbody tr th {\n        vertical-align: top;\n    }\n\n    .dataframe thead th {\n        text-align: right;\n    }\n</style>\n<table border=\"1\" class=\"dataframe\">\n  <thead>\n    <tr style=\"text-align: right;\">\n      <th></th>\n      <th>catalog_number</th>\n      <th>book_id_removed</th>\n      <th>book_id_kept</th>\n    </tr>\n  </thead>\n  <tbody>\n    <tr>\n      <th>0</th>\n      <td>CAT-2001</td>\n      <td>53783</td>\n      <td>20274</td>\n    </tr>\n    <tr>\n      <th>1</th>\n      <td>CAT-2002</td>\n      <td>58871</td>\n      <td>50753</td>\n    </tr>\n    <tr>\n      <th>2</th>\n      <td>CAT-2003</td>\n      <td>86910</td>\n      <td>77386</td>\n    </tr>\n    <tr>\n      <th>3</th>\n      <td>CAT-2004</td>\n      <td>58633</td>\n      <td>44065</td>\n    </tr>\n    <tr>\n      <th>4</th>\n      <td>CAT-2005</td>\n      <td>45824</td>\n      <td>87457</td>\n    </tr>\n    <tr>\n      <th>5</th>\n      <td>CAT-2006</td>\n      <td>46818</td>\n      <td>26735</td>\n    </tr>\n    <tr>\n      <th>6</th>\n      <td>CAT-2007</td>\n      <td>92800</td>\n      <td>39188</td>\n    </tr>\n    <tr>\n      <th>7</th>\n      <td>CAT-2008</td>\n      <td>44790</td>\n      <td>38900</td>\n    </tr>\n  </tbody>\n</table>\n</div>"
          },
          "metadata": {}
        }
      ],
      "execution_count": 57
    },
    {
      "id": "51569f53-704e-4986-bd2d-f21d88bacbf9",
      "cell_type": "code",
      "source": "    #6\n\nmerged_df = deleted_books[['catalog_number', 'book_id']].merge(\n    most_filled_values[['catalog_number', 'book_id']],\n    on='catalog_number',\n    suffixes=('_removed', '_kept')\n)\n\nreplacement_dict = dict(zip(merged_df['book_id_removed'], merged_df['book_id_kept']))\n\nsales_df['book_id'] = sales_df['book_id'].replace(replacement_dict)",
      "metadata": {
        "trusted": true
      },
      "outputs": [],
      "execution_count": 58
    },
    {
      "id": "6712dafe-3858-4cec-8b28-f0b356257cb5",
      "cell_type": "code",
      "source": "    #7\n\nimport pandas as pd\n\nsales = pd.read_csv('books_sales.csv', parse_dates=['sale_date'], dayfirst=True)\nbooks = pd.read_csv('books.csv')\n\nkept_book = (books\n             .sort_values('book_id')\n             .drop_duplicates('catalog_number', keep='first')\n             [['catalog_number', 'book_id']]\n             .rename(columns={'book_id': 'new_book_id'}))\n\nold_to_new = (books[['book_id', 'catalog_number']]\n              .merge(kept_book, on='catalog_number')\n              .set_index('book_id')['new_book_id']\n              .to_dict())\n\nsales['book_id'] = sales['book_id'].map(old_to_new)\n\nsales.to_csv('books_sales_clean.csv', index=False)",
      "metadata": {
        "trusted": true
      },
      "outputs": [],
      "execution_count": 67
    }
  ]
}
