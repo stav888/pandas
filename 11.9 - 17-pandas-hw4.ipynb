{
  "metadata": {
    "kernelspec": {
      "name": "python",
      "display_name": "Python (Pyodide)",
      "language": "python"
    },
    "language_info": {
      "codemirror_mode": {
        "name": "python",
        "version": 3
      },
      "file_extension": ".py",
      "mimetype": "text/x-python",
      "name": "python",
      "nbconvert_exporter": "python",
      "pygments_lexer": "ipython3",
      "version": "3.8"
    }
  },
  "nbformat_minor": 5,
  "nbformat": 4,
  "cells": [
    {
      "id": "3f2adf45-3406-4935-b427-c746e40117f3",
      "cell_type": "code",
      "source": "import pandas as pd\nimport numpy as np",
      "metadata": {
        "trusted": true
      },
      "outputs": [],
      "execution_count": 9
    },
    {
      "id": "a8a69f94-4196-4afe-bb14-8eb46bdeea05",
      "cell_type": "code",
      "source": "# DataFrame with duplicates\nbooks = pd.DataFrame({\n    \"title\": [\"1984\", \"Dune\", \"Dune\", \"Hamlet\", \"Hamlet\", \"Hamlet\", \"Emma\"],\n    \"author\": [\"Orwell\", \"Herbert\", \"Herbert\", \"Shakespeare\", \"Shakespeare\", \"Shakespeare\", \"Austen\"],\n    \"year\": [1949, 1965, 1965, 1603, 1603, 1609, 1815]\n})\n\n# DataFrame with missing values\nstudents = pd.DataFrame({\n    \"first_name\": [\"Liam\", np.nan, \"Noah\", \"Emma\", \"Olivia\"],\n    \"last_name\": [\"Smith\", np.nan, \"Johnson\", \"Brown\", \"Wilson\"],\n    \"age\": [20, np.nan, 22, 19, 21],\n    \"major\": [\"Math\", np.nan, \"CS\", \"History\", \"Biology\"],\n    \"gpa\": [3.5, np.nan, np.nan, 3.7, 3.9],\n    \"credits\": [30, np.nan, np.nan, 25, 40]\n})\n\n# Customers and orders for merging\ncustomers = pd.DataFrame({\n    \"cust_id\": [1, 2, 3, 4],\n    \"name\": [\"Alice\", \"Bob\", \"Clara\", \"David\"]\n})\n\norders = pd.DataFrame({\n    \"order_id\": [101, 102, 103, 104],\n    \"cust_id\": [1, 2, 2, 5],\n    \"amount\": [250, 400, 150, 500]\n})\n\ndisplay(books)\ndisplay(students)\ndisplay(customers)\ndisplay(orders)",
      "metadata": {
        "trusted": true
      },
      "outputs": [
        {
          "output_type": "display_data",
          "data": {
            "text/plain": "    title       author  year\n0    1984       Orwell  1949\n1    Dune      Herbert  1965\n2    Dune      Herbert  1965\n3  Hamlet  Shakespeare  1603\n4  Hamlet  Shakespeare  1603\n5  Hamlet  Shakespeare  1609\n6    Emma       Austen  1815",
            "text/html": "<div>\n<style scoped>\n    .dataframe tbody tr th:only-of-type {\n        vertical-align: middle;\n    }\n\n    .dataframe tbody tr th {\n        vertical-align: top;\n    }\n\n    .dataframe thead th {\n        text-align: right;\n    }\n</style>\n<table border=\"1\" class=\"dataframe\">\n  <thead>\n    <tr style=\"text-align: right;\">\n      <th></th>\n      <th>title</th>\n      <th>author</th>\n      <th>year</th>\n    </tr>\n  </thead>\n  <tbody>\n    <tr>\n      <th>0</th>\n      <td>1984</td>\n      <td>Orwell</td>\n      <td>1949</td>\n    </tr>\n    <tr>\n      <th>1</th>\n      <td>Dune</td>\n      <td>Herbert</td>\n      <td>1965</td>\n    </tr>\n    <tr>\n      <th>2</th>\n      <td>Dune</td>\n      <td>Herbert</td>\n      <td>1965</td>\n    </tr>\n    <tr>\n      <th>3</th>\n      <td>Hamlet</td>\n      <td>Shakespeare</td>\n      <td>1603</td>\n    </tr>\n    <tr>\n      <th>4</th>\n      <td>Hamlet</td>\n      <td>Shakespeare</td>\n      <td>1603</td>\n    </tr>\n    <tr>\n      <th>5</th>\n      <td>Hamlet</td>\n      <td>Shakespeare</td>\n      <td>1609</td>\n    </tr>\n    <tr>\n      <th>6</th>\n      <td>Emma</td>\n      <td>Austen</td>\n      <td>1815</td>\n    </tr>\n  </tbody>\n</table>\n</div>"
          },
          "metadata": {}
        },
        {
          "output_type": "display_data",
          "data": {
            "text/plain": "  first_name last_name   age    major  gpa  credits\n0       Liam     Smith  20.0     Math  3.5     30.0\n1        NaN       NaN   NaN      NaN  NaN      NaN\n2       Noah   Johnson  22.0       CS  NaN      NaN\n3       Emma     Brown  19.0  History  3.7     25.0\n4     Olivia    Wilson  21.0  Biology  3.9     40.0",
            "text/html": "<div>\n<style scoped>\n    .dataframe tbody tr th:only-of-type {\n        vertical-align: middle;\n    }\n\n    .dataframe tbody tr th {\n        vertical-align: top;\n    }\n\n    .dataframe thead th {\n        text-align: right;\n    }\n</style>\n<table border=\"1\" class=\"dataframe\">\n  <thead>\n    <tr style=\"text-align: right;\">\n      <th></th>\n      <th>first_name</th>\n      <th>last_name</th>\n      <th>age</th>\n      <th>major</th>\n      <th>gpa</th>\n      <th>credits</th>\n    </tr>\n  </thead>\n  <tbody>\n    <tr>\n      <th>0</th>\n      <td>Liam</td>\n      <td>Smith</td>\n      <td>20.0</td>\n      <td>Math</td>\n      <td>3.5</td>\n      <td>30.0</td>\n    </tr>\n    <tr>\n      <th>1</th>\n      <td>NaN</td>\n      <td>NaN</td>\n      <td>NaN</td>\n      <td>NaN</td>\n      <td>NaN</td>\n      <td>NaN</td>\n    </tr>\n    <tr>\n      <th>2</th>\n      <td>Noah</td>\n      <td>Johnson</td>\n      <td>22.0</td>\n      <td>CS</td>\n      <td>NaN</td>\n      <td>NaN</td>\n    </tr>\n    <tr>\n      <th>3</th>\n      <td>Emma</td>\n      <td>Brown</td>\n      <td>19.0</td>\n      <td>History</td>\n      <td>3.7</td>\n      <td>25.0</td>\n    </tr>\n    <tr>\n      <th>4</th>\n      <td>Olivia</td>\n      <td>Wilson</td>\n      <td>21.0</td>\n      <td>Biology</td>\n      <td>3.9</td>\n      <td>40.0</td>\n    </tr>\n  </tbody>\n</table>\n</div>"
          },
          "metadata": {}
        },
        {
          "output_type": "display_data",
          "data": {
            "text/plain": "   cust_id   name\n0        1  Alice\n1        2    Bob\n2        3  Clara\n3        4  David",
            "text/html": "<div>\n<style scoped>\n    .dataframe tbody tr th:only-of-type {\n        vertical-align: middle;\n    }\n\n    .dataframe tbody tr th {\n        vertical-align: top;\n    }\n\n    .dataframe thead th {\n        text-align: right;\n    }\n</style>\n<table border=\"1\" class=\"dataframe\">\n  <thead>\n    <tr style=\"text-align: right;\">\n      <th></th>\n      <th>cust_id</th>\n      <th>name</th>\n    </tr>\n  </thead>\n  <tbody>\n    <tr>\n      <th>0</th>\n      <td>1</td>\n      <td>Alice</td>\n    </tr>\n    <tr>\n      <th>1</th>\n      <td>2</td>\n      <td>Bob</td>\n    </tr>\n    <tr>\n      <th>2</th>\n      <td>3</td>\n      <td>Clara</td>\n    </tr>\n    <tr>\n      <th>3</th>\n      <td>4</td>\n      <td>David</td>\n    </tr>\n  </tbody>\n</table>\n</div>"
          },
          "metadata": {}
        },
        {
          "output_type": "display_data",
          "data": {
            "text/plain": "   order_id  cust_id  amount\n0       101        1     250\n1       102        2     400\n2       103        2     150\n3       104        5     500",
            "text/html": "<div>\n<style scoped>\n    .dataframe tbody tr th:only-of-type {\n        vertical-align: middle;\n    }\n\n    .dataframe tbody tr th {\n        vertical-align: top;\n    }\n\n    .dataframe thead th {\n        text-align: right;\n    }\n</style>\n<table border=\"1\" class=\"dataframe\">\n  <thead>\n    <tr style=\"text-align: right;\">\n      <th></th>\n      <th>order_id</th>\n      <th>cust_id</th>\n      <th>amount</th>\n    </tr>\n  </thead>\n  <tbody>\n    <tr>\n      <th>0</th>\n      <td>101</td>\n      <td>1</td>\n      <td>250</td>\n    </tr>\n    <tr>\n      <th>1</th>\n      <td>102</td>\n      <td>2</td>\n      <td>400</td>\n    </tr>\n    <tr>\n      <th>2</th>\n      <td>103</td>\n      <td>2</td>\n      <td>150</td>\n    </tr>\n    <tr>\n      <th>3</th>\n      <td>104</td>\n      <td>5</td>\n      <td>500</td>\n    </tr>\n  </tbody>\n</table>\n</div>"
          },
          "metadata": {}
        }
      ],
      "execution_count": 102
    },
    {
      "id": "c17a917e-d49e-47fa-9882-c1f63cce83ac",
      "cell_type": "code",
      "source": "display(df.duplicated())",
      "metadata": {
        "trusted": true
      },
      "outputs": [
        {
          "execution_count": 11,
          "output_type": "execute_result",
          "data": {
            "text/plain": "0    False\n1    False\n2     True\n3    False\n4     True\n5    False\n6    False\ndtype: bool"
          },
          "metadata": {}
        }
      ],
      "execution_count": 11
    },
    {
      "id": "76a7b64b-82f3-4837-a055-c72c6856b768",
      "cell_type": "code",
      "source": "#1.2\nprint(df[df.duplicated()])",
      "metadata": {
        "trusted": true
      },
      "outputs": [
        {
          "name": "stdout",
          "output_type": "stream",
          "text": "   id   name  score\n2   2    Bob     85\n5   4  David     80\n"
        }
      ],
      "execution_count": 23
    },
    {
      "id": "5fad8ff5-710e-4172-a948-ed8fdbbee869",
      "cell_type": "code",
      "source": "#1.3\nbooks.drop_duplicates(subset=['title'], keep='last')",
      "metadata": {
        "trusted": true
      },
      "outputs": [
        {
          "execution_count": 36,
          "output_type": "execute_result",
          "data": {
            "text/plain": "    title       author  year\n0    1984       Orwell  1949\n2    Dune      Herbert  1965\n5  Hamlet  Shakespeare  1609\n6    Emma       Austen  1815",
            "text/html": "<div>\n<style scoped>\n    .dataframe tbody tr th:only-of-type {\n        vertical-align: middle;\n    }\n\n    .dataframe tbody tr th {\n        vertical-align: top;\n    }\n\n    .dataframe thead th {\n        text-align: right;\n    }\n</style>\n<table border=\"1\" class=\"dataframe\">\n  <thead>\n    <tr style=\"text-align: right;\">\n      <th></th>\n      <th>title</th>\n      <th>author</th>\n      <th>year</th>\n    </tr>\n  </thead>\n  <tbody>\n    <tr>\n      <th>0</th>\n      <td>1984</td>\n      <td>Orwell</td>\n      <td>1949</td>\n    </tr>\n    <tr>\n      <th>2</th>\n      <td>Dune</td>\n      <td>Herbert</td>\n      <td>1965</td>\n    </tr>\n    <tr>\n      <th>5</th>\n      <td>Hamlet</td>\n      <td>Shakespeare</td>\n      <td>1609</td>\n    </tr>\n    <tr>\n      <th>6</th>\n      <td>Emma</td>\n      <td>Austen</td>\n      <td>1815</td>\n    </tr>\n  </tbody>\n</table>\n</div>"
          },
          "metadata": {}
        }
      ],
      "execution_count": 36
    },
    {
      "id": "9fa11d20-b5cc-4a05-87cd-cb77f0d8922c",
      "cell_type": "code",
      "source": "#1.4\nbooks['author'].duplicated().sum()",
      "metadata": {
        "trusted": true
      },
      "outputs": [
        {
          "execution_count": 37,
          "output_type": "execute_result",
          "data": {
            "text/plain": "np.int64(3)"
          },
          "metadata": {}
        }
      ],
      "execution_count": 37
    },
    {
      "id": "f8f0cabd-d23e-4a75-97b4-712d444a897f",
      "cell_type": "code",
      "source": "#2.1\nstudents.isna().sum()",
      "metadata": {
        "trusted": true
      },
      "outputs": [
        {
          "execution_count": 47,
          "output_type": "execute_result",
          "data": {
            "text/plain": "first_name       1\nlast_name        1\nage              1\nmajor            1\ngpa              2\ncredits          2\nmissing_count    0\ndtype: int64"
          },
          "metadata": {}
        }
      ],
      "execution_count": 47
    },
    {
      "id": "a29e2d9f-8d41-43c3-a0bb-7b2ec8733cbb",
      "cell_type": "code",
      "source": "#2.2\nmissing_count = students['missing_count'] = students.isna().sum(axis=1)\nprint(missing_count)",
      "metadata": {
        "trusted": true
      },
      "outputs": [
        {
          "name": "stdout",
          "output_type": "stream",
          "text": "0    0\n1    6\n2    2\n3    0\n4    0\ndtype: int64\n"
        }
      ],
      "execution_count": 55
    },
    {
      "id": "009e7025-a92a-4d68-9f00-7834cc183d28",
      "cell_type": "code",
      "source": "#2.3\nstudents[students['gpa'].isna() & students['first_name'].notna()]",
      "metadata": {
        "trusted": true
      },
      "outputs": [
        {
          "execution_count": 56,
          "output_type": "execute_result",
          "data": {
            "text/plain": "  first_name last_name   age major  gpa  credits  missing_count\n2       Noah   Johnson  22.0    CS  NaN      NaN              2",
            "text/html": "<div>\n<style scoped>\n    .dataframe tbody tr th:only-of-type {\n        vertical-align: middle;\n    }\n\n    .dataframe tbody tr th {\n        vertical-align: top;\n    }\n\n    .dataframe thead th {\n        text-align: right;\n    }\n</style>\n<table border=\"1\" class=\"dataframe\">\n  <thead>\n    <tr style=\"text-align: right;\">\n      <th></th>\n      <th>first_name</th>\n      <th>last_name</th>\n      <th>age</th>\n      <th>major</th>\n      <th>gpa</th>\n      <th>credits</th>\n      <th>missing_count</th>\n    </tr>\n  </thead>\n  <tbody>\n    <tr>\n      <th>2</th>\n      <td>Noah</td>\n      <td>Johnson</td>\n      <td>22.0</td>\n      <td>CS</td>\n      <td>NaN</td>\n      <td>NaN</td>\n      <td>2</td>\n    </tr>\n  </tbody>\n</table>\n</div>"
          },
          "metadata": {}
        }
      ],
      "execution_count": 56
    },
    {
      "id": "505110fc-6472-408a-a742-746f89e8cb3c",
      "cell_type": "code",
      "source": "#2.4\nstudents.isna().sum().idxmax()",
      "metadata": {
        "trusted": true
      },
      "outputs": [
        {
          "execution_count": 86,
          "output_type": "execute_result",
          "data": {
            "text/plain": "'gpa'"
          },
          "metadata": {}
        }
      ],
      "execution_count": 86
    },
    {
      "id": "35266408-7f09-4494-b1df-3ca8751e34af",
      "cell_type": "code",
      "source": "#3.1\nmean_age = students['age'].mean()\nstudents_age_filled = students.copy()\nstudents_age_filled['age'] = students['age'].fillna(mean_age)\n\nprint(students_age_filled)",
      "metadata": {
        "trusted": true
      },
      "outputs": [
        {
          "name": "stdout",
          "output_type": "stream",
          "text": "  first_name last_name   age    major  gpa  credits\n0       Liam     Smith  20.0     Math  3.5     30.0\n1        NaN       NaN  20.5      NaN  NaN      NaN\n2       Noah   Johnson  22.0       CS  NaN      NaN\n3       Emma     Brown  19.0  History  3.7     25.0\n4     Olivia    Wilson  21.0  Biology  3.9     40.0\n"
        }
      ],
      "execution_count": 103
    },
    {
      "id": "358b9124-3926-4c6c-89eb-46243164f42a",
      "cell_type": "code",
      "source": "#3.2\nmin_gpa = students['gpa'].min()\nstudents_gpa_filled = students.copy()\nstudents_gpa_filled['gpa'] = students['gpa'].fillna(min_gpa)\n\nprint(students_gpa_filled)",
      "metadata": {
        "trusted": true
      },
      "outputs": [
        {
          "name": "stdout",
          "output_type": "stream",
          "text": "  first_name last_name   age    major  gpa  credits\n0       Liam     Smith  20.0     Math  3.5     30.0\n1        NaN       NaN   NaN      NaN  3.5      NaN\n2       Noah   Johnson  22.0       CS  3.5      NaN\n3       Emma     Brown  19.0  History  3.7     25.0\n4     Olivia    Wilson  21.0  Biology  3.9     40.0\n"
        }
      ],
      "execution_count": 106
    },
    {
      "id": "7b3c5416-1693-4961-8d3a-eb71499604af",
      "cell_type": "code",
      "source": "#3.3\nmax_credits = students['credits'].max()\nstudents_credits_filled = students.copy()\nstudents_credits_filled['credits'] = students['credits'].fillna(max_credits)\n\nprint(students_credits_filled)",
      "metadata": {
        "trusted": true
      },
      "outputs": [
        {
          "name": "stdout",
          "output_type": "stream",
          "text": "  first_name last_name   age    major  gpa  credits\n0       Liam     Smith  20.0     Math  3.5     30.0\n1        NaN       NaN   NaN      NaN  NaN     40.0\n2       Noah   Johnson  22.0       CS  NaN     40.0\n3       Emma     Brown  19.0  History  3.7     25.0\n4     Olivia    Wilson  21.0  Biology  3.9     40.0\n"
        }
      ],
      "execution_count": 108
    },
    {
      "id": "7898be10-ec05-46eb-8c84-cd343742cbd9",
      "cell_type": "code",
      "source": "#3.4\nThe age using the mean is realistic",
      "metadata": {
        "trusted": true
      },
      "outputs": [
        {
          "ename": "<class 'SyntaxError'>",
          "evalue": "invalid syntax (<ipython-input-110-dd61180d24b5>, line 2)",
          "traceback": [
            "\u001b[0;36m  Cell \u001b[0;32mIn[110], line 2\u001b[0;36m\u001b[0m\n\u001b[0;31m    The age\u001b[0m\n\u001b[0m        ^\u001b[0m\n\u001b[0;31mSyntaxError\u001b[0m\u001b[0;31m:\u001b[0m invalid syntax\n"
          ],
          "output_type": "error"
        }
      ],
      "execution_count": 110
    },
    {
      "id": "146998cc-cefe-48ba-8d4c-98668db6fcf8",
      "cell_type": "code",
      "source": "#4.1 Drop all rows that contain any NaN values\ndrop_na_rows = students_no_nan = students.dropna()\nprint(drop_na_rows)",
      "metadata": {
        "trusted": true
      },
      "outputs": [
        {
          "name": "stdout",
          "output_type": "stream",
          "text": "  first_name last_name   age    major  gpa  credits\n0       Liam     Smith  20.0     Math  3.5     30.0\n3       Emma     Brown  19.0  History  3.7     25.0\n4     Olivia    Wilson  21.0  Biology  3.9     40.0\n"
        }
      ],
      "execution_count": 114
    },
    {
      "id": "6bb61f3d-96b1-49a9-bdc0-3f64d2b8f666",
      "cell_type": "code",
      "source": "#4.2\nstudents_not_all_nan = students.dropna(how='all')\nprint(students_not_all_nan)",
      "metadata": {
        "trusted": true
      },
      "outputs": [
        {
          "name": "stdout",
          "output_type": "stream",
          "text": "  first_name last_name   age    major  gpa  credits\n0       Liam     Smith  20.0     Math  3.5     30.0\n2       Noah   Johnson  22.0       CS  NaN      NaN\n3       Emma     Brown  19.0  History  3.7     25.0\n4     Olivia    Wilson  21.0  Biology  3.9     40.0\n"
        }
      ],
      "execution_count": 117
    },
    {
      "id": "2f64625c-6413-41a1-ac8f-7168dffcaa21",
      "cell_type": "code",
      "source": "#4.3\nstudents_thresh3 = students.dropna(thresh=3)\nprint(students_thresh3)",
      "metadata": {
        "trusted": true
      },
      "outputs": [
        {
          "name": "stdout",
          "output_type": "stream",
          "text": "  first_name last_name   age    major  gpa  credits\n0       Liam     Smith  20.0     Math  3.5     30.0\n2       Noah   Johnson  22.0       CS  NaN      NaN\n3       Emma     Brown  19.0  History  3.7     25.0\n4     Olivia    Wilson  21.0  Biology  3.9     40.0\n"
        }
      ],
      "execution_count": 122
    },
    {
      "id": "0f399938-2518-4db8-9051-0181e3b805d0",
      "cell_type": "code",
      "source": "#4.3\nthreshold = len(students) * 0.5\nstudents_fewer_missing_cols = students.dropna(axis=1, thresh=threshold)\nprint(students_fewer_missing_cols)",
      "metadata": {
        "trusted": true
      },
      "outputs": [
        {
          "name": "stdout",
          "output_type": "stream",
          "text": "  first_name last_name   age    major  gpa  credits\n0       Liam     Smith  20.0     Math  3.5     30.0\n1        NaN       NaN   NaN      NaN  NaN      NaN\n2       Noah   Johnson  22.0       CS  NaN      NaN\n3       Emma     Brown  19.0  History  3.7     25.0\n4     Olivia    Wilson  21.0  Biology  3.9     40.0\n"
        }
      ],
      "execution_count": 124
    }
  ]
}
