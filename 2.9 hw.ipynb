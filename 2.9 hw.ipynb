{
 "cell_type": "markdown",
 "metadata": {},
 "source": [
  "# 10-pandas-hw1\n"
 ]
}

{
 "cells": [
  {
   "cell_type": "code",
   "execution_count": 1,
   "id": "35f8a483-08f2-4ea1-9f2a-e41f9d4db13c",
   "metadata": {},
   "outputs": [
    {
     "name": "stdout",
     "output_type": "stream",
     "text": [
      "      Name  Age  Salary Department\n",
      "0    Alice   25   50000         HR\n",
      "1      Bob   30   60000         IT\n",
      "2  Charlie   35   75000    Finance\n",
      "3    Diana   28   62000         IT\n",
      "4     Evan   40   80000         HR\n"
     ]
    }
   ],
   "source": [
    "# 1 - create dataframe\n",
    "\n",
    "import pandas as pd\n",
    "\n",
    "data = {\n",
    "    \"Name\": [\"Alice\", \"Bob\", \"Charlie\", \"Diana\", \"Evan\"],\n",
    "    \"Age\": [25, 30, 35, 28, 40],\n",
    "    \"Salary\": [50000, 60000, 75000, 62000, 80000],\n",
    "    \"Department\": [\"HR\", \"IT\", \"Finance\", \"IT\", \"HR\"]\n",
    "}\n",
    "\n",
    "df = pd.DataFrame(data)\n",
    "print(df)"
   ]
  },
  {
   "cell_type": "code",
   "execution_count": 2,
   "id": "b9a4f253-3542-4baa-b8ce-983a0783828a",
   "metadata": {},
   "outputs": [
    {
     "name": "stdout",
     "output_type": "stream",
     "text": [
      "      Name  Salary\n",
      "0    Alice   50000\n",
      "1      Bob   60000\n",
      "2  Charlie   75000\n"
     ]
    }
   ],
   "source": [
    "# 1.select rows and columns with .iloc\n",
    "# first 3 rows, only the name and salary columns\n",
    "\n",
    "selected = df.iloc[:3][[\"Name\", \"Salary\"]]\n",
    "print(selected)"
   ]
  },
  {
   "cell_type": "code",
   "execution_count": 4,
   "id": "08ebab40-f9f7-4a9a-991d-dd7eb70633b0",
   "metadata": {},
   "outputs": [
    {
     "name": "stdout",
     "output_type": "stream",
     "text": [
      "      Name  Age  Salary Department   Bonus\n",
      "0    Alice   25   50000         HR  5000.0\n",
      "1      Bob   30   60000         IT  6000.0\n",
      "2  Charlie   35   75000    Finance  7500.0\n",
      "3    Diana   28   62000         IT  6200.0\n",
      "4     Evan   40   80000         HR  8000.0\n"
     ]
    }
   ],
   "source": [
    "# 2.add a new calculated column\n",
    "\n",
    "# create a column bonus that is 10% of the Salary\n",
    "\n",
    "df[\"Bonus\"] = df[\"Salary\"] * 0.10\n",
    "print(df)"
   ]
  },
  {
   "cell_type": "code",
   "execution_count": 8,
   "id": "d3499664-4c09-48b0-8fc8-a9fc324b7703",
   "metadata": {},
   "outputs": [
    {
     "name": "stdout",
     "output_type": "stream",
     "text": [
      "         Salary Department\n",
      "Name                      \n",
      "Bob       60000         IT\n",
      "Charlie   75000    Finance\n",
      "Diana     62000         IT\n",
      "\n",
      "      Name  Age  Salary Department   Bonus\n",
      "0    Alice   25   50000         HR  5000.0\n",
      "1      Bob   30   60000         IT  6000.0\n",
      "2  Charlie   35   75000    Finance  7500.0\n",
      "3    Diana   28   62000         IT  6200.0\n",
      "4     Evan   40   80000         HR  8000.0\n"
     ]
    }
   ],
   "source": [
    "# 3.change the index\n",
    "\n",
    "# set the name column as the new index\n",
    "df_indexed = df.set_index(\"Name\")\n",
    "print(df_indexed.loc[\"Bob\":\"Diana\", [\"Salary\", \"Department\"]])\n",
    "\n",
    "print()\n",
    "\n",
    "# reset to default numeric index\n",
    "df_reset = df_indexed.reset_index()\n",
    "print(df_reset)"
   ]
  },
  {
   "cell_type": "code",
   "execution_count": 9,
   "id": "81329f4b-04e7-4c81-8ed3-83e33888a29c",
   "metadata": {},
   "outputs": [
    {
     "name": "stdout",
     "output_type": "stream",
     "text": [
      "Original DataFrame:\n",
      "      Name  Age  Salary Department\n",
      "0    Alice   25   50000         HR\n",
      "1      Bob   30   60000         IT\n",
      "2  Charlie   35   75000    Finance\n",
      "3    Diana   28   62000         IT\n",
      "4     Evan   40   80000         HR\n",
      "\n",
      "---\n",
      "\n",
      "First 3 rows, Name and Salary columns:\n",
      "      Name  Salary\n",
      "0    Alice   50000\n",
      "1      Bob   60000\n",
      "2  Charlie   75000\n",
      "\n",
      "---\n",
      "\n",
      "DataFrame with Bonus column:\n",
      "      Name  Age  Salary Department   Bonus\n",
      "0    Alice   25   50000         HR  5000.0\n",
      "1      Bob   30   60000         IT  6000.0\n",
      "2  Charlie   35   75000    Finance  7500.0\n",
      "3    Diana   28   62000         IT  6200.0\n",
      "4     Evan   40   80000         HR  8000.0\n",
      "\n",
      "---\n",
      "\n",
      "DataFrame with Name as index:\n",
      "         Age  Salary Department   Bonus\n",
      "Name                                   \n",
      "Alice     25   50000         HR  5000.0\n",
      "Bob       30   60000         IT  6000.0\n",
      "Charlie   35   75000    Finance  7500.0\n",
      "Diana     28   62000         IT  6200.0\n",
      "Evan      40   80000         HR  8000.0\n",
      "\n",
      "---\n",
      "\n",
      "Rows from Bob to Diana, Salary and Department columns:\n",
      "         Salary Department\n",
      "Name                      \n",
      "Bob       60000         IT\n",
      "Charlie   75000    Finance\n",
      "Diana     62000         IT\n",
      "\n",
      "---\n",
      "\n",
      "DataFrame with default numeric index:\n",
      "      Name  Age  Salary Department   Bonus\n",
      "0    Alice   25   50000         HR  5000.0\n",
      "1      Bob   30   60000         IT  6000.0\n",
      "2  Charlie   35   75000    Finance  7500.0\n",
      "3    Diana   28   62000         IT  6200.0\n",
      "4     Evan   40   80000         HR  8000.0\n"
     ]
    }
   ],
   "source": [
    "import pandas as pd\n",
    "\n",
    "# Step 1: Create a DataFrame\n",
    "data = {\n",
    "    \"Name\": [\"Alice\", \"Bob\", \"Charlie\", \"Diana\", \"Evan\"],\n",
    "    \"Age\": [25, 30, 35, 28, 40],\n",
    "    \"Salary\": [50000, 60000, 75000, 62000, 80000],\n",
    "    \"Department\": [\"HR\", \"IT\", \"Finance\", \"IT\", \"HR\"]\n",
    "}\n",
    "\n",
    "df = pd.DataFrame(data)\n",
    "print(\"Original DataFrame:\")\n",
    "print(df)\n",
    "print(\"\\n---\\n\")\n",
    "\n",
    "# Task 1: Select rows and columns with .iloc\n",
    "first_three_rows = df.iloc[:3, [0, 2]]  # Rows 0-2, columns Name and Salary\n",
    "print(\"First 3 rows, Name and Salary columns:\")\n",
    "print(first_three_rows)\n",
    "print(\"\\n---\\n\")\n",
    "\n",
    "# Task 2: Add a new calculated column\n",
    "df[\"Bonus\"] = df[\"Salary\"] * 0.1\n",
    "print(\"DataFrame with Bonus column:\")\n",
    "print(df)\n",
    "print(\"\\n---\\n\")\n",
    "\n",
    "# Task 3: Change the index\n",
    "df_indexed = df.set_index(\"Name\")\n",
    "print(\"DataFrame with Name as index:\")\n",
    "print(df_indexed)\n",
    "print(\"\\n---\\n\")\n",
    "\n",
    "# Display rows from Bob to Diana, only Salary and Department columns\n",
    "bob_to_diana = df_indexed.loc[\"Bob\":\"Diana\", [\"Salary\", \"Department\"]]\n",
    "print(\"Rows from Bob to Diana, Salary and Department columns:\")\n",
    "print(bob_to_diana)\n",
    "print(\"\\n---\\n\")\n",
    "\n",
    "# Reset index back to default\n",
    "df_reset = df_indexed.reset_index()\n",
    "print(\"DataFrame with default numeric index:\")\n",
    "print(df_reset)\n"
   ]
  }
 ],
 "metadata": {
  "kernelspec": {
   "display_name": "Python 3 (ipykernel)",
   "language": "python",
   "name": "python3"
  },
  "language_info": {
   "codemirror_mode": {
    "name": "ipython",
    "version": 3
   },
   "file_extension": ".py",
   "mimetype": "text/x-python",
   "name": "python",
   "nbconvert_exporter": "python",
   "pygments_lexer": "ipython3",
   "version": "3.13.2"
  }
 },
 "nbformat": 4,
 "nbformat_minor": 5
}
