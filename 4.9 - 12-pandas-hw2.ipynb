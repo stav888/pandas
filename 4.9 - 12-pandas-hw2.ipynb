{
  "metadata": {
    "kernelspec": {
      "name": "python",
      "display_name": "Python (Pyodide)",
      "language": "python"
    },
    "language_info": {
      "codemirror_mode": {
        "name": "python",
        "version": 3
      },
      "file_extension": ".py",
      "mimetype": "text/x-python",
      "name": "python",
      "nbconvert_exporter": "python",
      "pygments_lexer": "ipython3",
      "version": "3.8"
    }
  },
  "nbformat_minor": 4,
  "nbformat": 4,
  "cells": [
    {
      "cell_type": "code",
      "source": "import pandas as pd\n\ndf = pd.DataFrame({\n    'name': ['Alice', 'Bob', 'Charlie', 'Diana'],\n    'age': [22, 35, 19, 40],\n    'city': ['Paris', 'London', 'Berlin', 'Paris']\n})\nprint(\"DataFrame:\")\nprint(df)\n\n# 1. age > 30\nprint(\"\\n Rows where age > 30:\")\nprint(df[df['age'] > 30])\n\n# 2. city is Paris or London\nprint(\"\\n Rows where city is Paris or London:\")\nprint(df[df['city'].isin(['Paris', 'London'])])\n\n# 3. age between 20 and 25 (inclusive)\nprint(\"\\n Rows where age is between 20 and 25:\")\nprint(df[(df['age'] >= 20) & (df['age'] <= 25)])",
      "metadata": {
        "trusted": true
      },
      "outputs": [
        {
          "name": "stdout",
          "output_type": "stream",
          "text": "DataFrame:\n      name  age    city\n0    Alice   22   Paris\n1      Bob   35  London\n2  Charlie   19  Berlin\n3    Diana   40   Paris\n\n Rows where age > 30:\n    name  age    city\n1    Bob   35  London\n3  Diana   40   Paris\n\n Rows where city is Paris or London:\n    name  age    city\n0  Alice   22   Paris\n1    Bob   35  London\n3  Diana   40   Paris\n\n Rows where age is between 20 and 25:\n    name  age   city\n0  Alice   22  Paris\n"
        }
      ],
      "execution_count": 41
    },
    {
      "cell_type": "code",
      "source": "df = pd.DataFrame({\n    'salary': [2500, 4000, 6000, 7500]\n})\nprint(\"Original DataFrame:\")\nprint(df)\n\n# 1. salary_tax = 10% of salary\ndf['salary_tax'] = df['salary'] * 0.10\n\n# 2. annual_salary = salary * 12\ndf['annual_salary'] = df['salary'] * 12\n\nprint(\"\\n With salary_tax and annual_salary:\")\nprint(df)",
      "metadata": {
        "trusted": true
      },
      "outputs": [
        {
          "name": "stdout",
          "output_type": "stream",
          "text": "Original DataFrame:\n   salary\n0    2500\n1    4000\n2    6000\n3    7500\n\n With salary_tax and annual_salary:\n   salary  salary_tax  annual_salary\n0    2500       250.0          30000\n1    4000       400.0          48000\n2    6000       600.0          72000\n3    7500       750.0          90000\n"
        }
      ],
      "execution_count": 43
    },
    {
      "cell_type": "code",
      "source": "df = pd.DataFrame({\n    'name': ['Alice', 'Bob', 'Charlie'],\n    'math': [80, 55, 90],\n    'english': [70, 65, 85],\n    'science': [60, 75, 95]\n})\nprint(\"Original DataFrame:\")\nprint(df)\n\n# 1. Total score per student\ndf['total_score'] = df[['math', 'english', 'science']].sum(axis=1)\n\n# 2. Pass/Fail based on average score\ndf['result'] = df[['math', 'english', 'science']].mean(axis=1).apply(lambda x: 'Pass' if x > 60 else 'Fail')\n\nprint(\"\\n With total_score and result:\")\nprint(df)",
      "metadata": {
        "trusted": true
      },
      "outputs": [
        {
          "name": "stdout",
          "output_type": "stream",
          "text": "Original DataFrame:\n      name  math  english  science\n0    Alice    80       70       60\n1      Bob    55       65       75\n2  Charlie    90       85       95\n\nWith total_score and result:\n      name  math  english  science  total_score result\n0    Alice    80       70       60          210   Pass\n1      Bob    55       65       75          195   Pass\n2  Charlie    90       85       95          270   Pass\n"
        }
      ],
      "execution_count": 3
    },
    {
      "cell_type": "code",
      "source": "df = pd.DataFrame({\n    'name': ['Alice', 'Bob'],\n    'age': [25, 30]\n})\nprint(\"Original DataFrame:\")\nprint(df)\n\n# 1. Add new row for Charlie\ndf.loc[2] = ['Charlie', 28]\n\n# 2. Replace the second row (Bob) with Bobby, age 32 using iloc\ndf.iloc[1] = ['Bobby', 32]\n\nprint(\"\\n After adding Charlie and updating Bob to Bobby:\")\nprint(df)",
      "metadata": {
        "trusted": true
      },
      "outputs": [
        {
          "name": "stdout",
          "output_type": "stream",
          "text": "Original DataFrame:\n    name  age\n0  Alice   25\n1    Bob   30\n\n After adding Charlie and updating Bob to Bobby:\n      name  age\n0    Alice   25\n1    Bobby   32\n2  Charlie   28\n"
        }
      ],
      "execution_count": 45
    },
    {
      "cell_type": "code",
      "source": "df = pd.DataFrame({\n    'name': ['Alice', 'Bob', 'Charlie'],\n    'age': [22, 35, 28]\n})\nprint(\"Original DataFrame:\")\nprint(df)\n\n# 1. Change Alice to Alicia with .at\ndf.at[0, 'name'] = 'Alicia'\n\n# 2. Change Bob's age (row 1, col 1) from 35 to 36 with .iat\ndf.iat[1, 1] = 36\n\nprint(\"\\n After updates:\")\nprint(df)",
      "metadata": {
        "trusted": true
      },
      "outputs": [
        {
          "name": "stdout",
          "output_type": "stream",
          "text": "Original DataFrame:\n      name  age\n0    Alice   22\n1      Bob   35\n2  Charlie   28\n\n After updates:\n      name  age\n0   Alicia   22\n1      Bob   36\n2  Charlie   28\n"
        }
      ],
      "execution_count": 44
    },
    {
      "cell_type": "code",
      "source": "df1 = pd.DataFrame({\n    'A': [1, 2, 3],\n    'B': [4, 5, 6]\n})\n\ndf2 = pd.DataFrame({\n    'A': [7, 8, 9],\n    'B': [10, 11, 12]\n})\n\nprint(\"df1:\")\nprint(df1)\nprint(\"df2:\")\nprint(df2)\n\n# 1. Concatenate by rows\nconcat_rows = pd.concat([df1, df2], axis=0, ignore_index=True)\nprint(\"\\n Concatenated by rows:\")\nprint(concat_rows)\n\n# 2. Concatenate by columns\nconcat_cols = pd.concat([df1, df2], axis=1)\nprint(\"\\n Concatenated by columns:\")\nprint(concat_cols)",
      "metadata": {
        "trusted": true
      },
      "outputs": [
        {
          "name": "stdout",
          "output_type": "stream",
          "text": "df1:\n   A  B\n0  1  4\n1  2  5\n2  3  6\ndf2:\n   A   B\n0  7  10\n1  8  11\n2  9  12\n\n Concatenated by rows:\n   A   B\n0  1   4\n1  2   5\n2  3   6\n3  7  10\n4  8  11\n5  9  12\n\n Concatenated by columns:\n   A  B  A   B\n0  1  4  7  10\n1  2  5  8  11\n2  3  6  9  12\n"
        }
      ],
      "execution_count": 47
    },
    {
      "cell_type": "code",
      "source": "df = pd.DataFrame({\n    'name': ['Book', 'Pen', 'Laptop', 'Phone'],\n    'price': [50, 10, 120, 80],\n    'quantity': [5, 2, 10, 7]\n})\nprint(\"Original DataFrame:\")\nprint(df)\n\n# 1. price > 100\nprint(\"\\n Products where price > 100:\")\nprint(df[df['price'] > 100])\n\n# 2. quantity is 5 or 10\nprint(\"\\n Products where quantity is 5 or 10:\")\nprint(df[df['quantity'].isin([5, 10])])\n\n# 3. price between 50 and 80 (inclusive)\nprint(\"\\n Products where price is between 50 and 80:\")\nprint(df[(df['price'] >= 50) & (df['price'] <= 80)])",
      "metadata": {
        "trusted": true
      },
      "outputs": [
        {
          "name": "stdout",
          "output_type": "stream",
          "text": "Original DataFrame:\n     name  price  quantity\n0    Book     50         5\n1     Pen     10         2\n2  Laptop    120        10\n3   Phone     80         7\n\n Products where price > 100:\n     name  price  quantity\n2  Laptop    120        10\n\n Products where quantity is 5 or 10:\n     name  price  quantity\n0    Book     50         5\n2  Laptop    120        10\n\n Products where price is between 50 and 80:\n    name  price  quantity\n0   Book     50         5\n3  Phone     80         7\n"
        }
      ],
      "execution_count": 46
    },
    {
      "cell_type": "code",
      "source": "df = pd.DataFrame({\n    'id': [1, 2, 3],\n    'name': ['Alice', 'Bob', 'Charlie'],\n    'department': ['HR', 'IT', 'Finance']\n})\nprint(\"Original DataFrame:\")\nprint(df)\n\n# 1. Drop first row\ndropped_row = df.drop(index=0)\nprint(\"\\n After dropping first row:\")\nprint(dropped_row)\n\n# 2. Drop 'department' column\ndropped_col = df.drop(columns='department')\nprint(\"\\n After dropping 'department' column:\")\nprint(dropped_col)",
      "metadata": {
        "trusted": true
      },
      "outputs": [
        {
          "name": "stdout",
          "output_type": "stream",
          "text": "Original DataFrame:\n   id     name department\n0   1    Alice         HR\n1   2      Bob         IT\n2   3  Charlie    Finance\n\n After dropping first row:\n   id     name department\n1   2      Bob         IT\n2   3  Charlie    Finance\n\n After dropping 'department' column:\n   id     name\n0   1    Alice\n1   2      Bob\n2   3  Charlie\n"
        }
      ],
      "execution_count": 48
    }
  ]
}
