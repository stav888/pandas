{
 "cells": [
  {
   "cell_type": "markdown",
   "metadata": {},
   "source": [
    "# Pandas – Exercises Solutions 🎯\n",
    "Based on [12-pandas-hw2.md](https://github.com/pythonai200425/pages/blob/main/12-pandas-hw2.md)\n",
    "\n",
    "---"
   ]
  },
  {
   "cell_type": "markdown",
   "metadata": {},
   "source": [
    "## 1. Conditions 🔍"
   ]
  },
  {
   "cell_type": "code",
   "metadata": {},
   "source": [
    "import pandas as pd\n",
    "\n",
    "df = pd.DataFrame({\n",
    "    'name': ['Alice', 'Bob', 'Charlie', 'Diana'],\n",
    "    'age': [22, 35, 19, 40],\n",
    "    'city': ['Paris', 'London', 'Berlin', 'Paris']\n",
    "})\n",
    "print(\"Original DataFrame:\")\n",
    "print(df)\n",
    "\n",
    "# 1. age > 30\n",
    "print(\"\\nRows where age > 30:\")\n",
    "print(df[df['age'] > 30])\n",
    "\n",
    "# 2. city is Paris or London\n",
    "print(\"\\nRows where city is Paris or London:\")\n",
    "print(df[df['city'].isin(['Paris', 'London'])])\n",
    "\n",
    "# 3. age between 20 and 25 (inclusive)\n",
    "print(\"\\nRows where age is between 20 and 25:\")\n",
    "print(df[(df['age'] >= 20) & (df['age'] <= 25)])"
   ],
   "execution_count": null,
   "outputs": []
  },
  {
   "cell_type": "markdown",
   "metadata": {},
   "source": [
    "## 2. Apply on Column 📊"
   ]
  },
  {
   "cell_type": "code",
   "metadata": {},
   "source": [
    "df = pd.DataFrame({\n",
    "    'salary': [2500, 4000, 6000, 7500]\n",
    "})\n",
    "print(\"Original DataFrame:\")\n",
    "print(df)\n",
    "\n",
    "# 1. salary_tax = 10% of salary\n",
    "df['salary_tax'] = df['salary'] * 0.10\n",
    "\n",
    "# 2. annual_salary = salary * 12\n",
    "df['annual_salary'] = df['salary'] * 12\n",
    "\n",
    "print(\"\\nWith salary_tax and annual_salary:\")\n",
    "print(df)"
   ],
   "execution_count": null,
   "outputs": []
  },
  {
   "cell_type": "markdown",
   "metadata": {},
   "source": [
    "## 3. Apply on Rows 📝"
   ]
  },
  {
   "cell_type": "code",
   "metadata": {},
   "source": [
    "df = pd.DataFrame({\n",
    "    'name': ['Alice', 'Bob', 'Charlie'],\n",
    "    'math': [80, 55, 90],\n",
    "    'english': [70, 65, 85],\n",
    "    'science': [60, 75, 95]\n",
    "})\n",
    "print(\"Original DataFrame:\")\n",
    "print(df)\n",
    "\n",
    "# 1. Total score per student\n",
    "df['total_score'] = df[['math', 'english', 'science']].sum(axis=1)\n",
    "\n",
    "# 2. Pass/Fail based on average score\n",
    "df['result'] = df[['math', 'english', 'science']].mean(axis=1).apply(lambda x: 'Pass' if x > 60 else 'Fail')\n",
    "\n",
    "print(\"\\nWith total_score and result:\")\n",
    "print(df)"
   ],
   "execution_count": null,
   "outputs": []
  },
  {
   "cell_type": "markdown",
   "metadata": {},
   "source": [
    "## 4. Add / Replace Row using `.loc` / `.iloc` ➕"
   ]
  },
  {
   "cell_type": "code",
   "metadata": {},
   "source": [
    "df = pd.DataFrame({\n",
    "    'name': ['Alice', 'Bob'],\n",
    "    'age': [25, 30]\n",
    "})\n",
    "print(\"Original DataFrame:\")\n",
    "print(df)\n",
    "\n",
    "# 1. Add new row for Charlie\n",
    "df.loc[2] = ['Charlie', 28]\n",
    "\n",
    "# 2. Replace the second row (Bob) with Bobby, age 32 using iloc\n",
    "df.iloc[1] = ['Bobby', 32]\n",
    "\n",
    "print(\"\\nAfter adding Charlie and updating Bob to Bobby:\")\n",
    "print(df)"
   ],
   "execution_count": null,
   "outputs": []
  },
  {
   "cell_type": "markdown",
   "metadata": {},
   "source": [
    "## 5. Update a Cell using `.at` / `.iat` ✏️"
   ]
  },
  {
   "cell_type": "code",
   "metadata": {},
   "source": [
    "df = pd.DataFrame({\n",
    "    'name': ['Alice', 'Bob', 'Charlie'],\n",
    "    'age': [22, 35, 28]\n",
    "})\n",
    "print(\"Original DataFrame:\")\n",
    "print(df)\n",
    "\n",
    "# 1. Change Alice to Alicia with .at\n",
    "df.at[0, 'name'] = 'Alicia'\n",
    "\n",
    "# 2. Change Bob's age (row 1, col 1) from 35 to 36 with .iat\n",
    "df.iat[1, 1] = 36\n",
    "\n",
    "print(\"\\nAfter updates:\")\n",
    "print(df)"
   ],
   "execution_count": null,
   "outputs": []
  },
  {
   "cell_type": "markdown",
   "metadata": {},
   "source": [
    "## 6. Concatenation 🔗"
   ]
  },
  {
   "cell_type": "code",
   "metadata": {},
   "source": [
    "df1 = pd.DataFrame({\n",
    "    'A': [1, 2, 3],\n",
    "    'B': [4, 5, 6]\n",
    "})\n",
    "\n",
    "df2 = pd.DataFrame({\n",
    "    'A': [7, 8, 9],\n",
    "    'B': [10, 11, 12]\n",
    "})\n",
    "\n",
    "print(\"df1:\")\n",
    "print(df1)\n",
    "print(\"df2:\")\n",
    "print(df2)\n",
    "\n",
    "# 1. Concatenate by rows\n",
    "concat_rows = pd.concat([df1, df2], axis=0, ignore_index=True)\n",
    "print(\"\\nConcatenated by rows:\")\n",
    "print(concat_rows)\n",
    "\n",
    "# 2. Concatenate by columns\n",
    "concat_cols = pd.concat([df1, df2], axis=1)\n",
    "print(\"\\nConcatenated by columns:\")\n",
    "print(concat_cols)"
   ],
   "execution_count": null,
   "outputs": []
  },
  {
   "cell_type": "markdown",
   "metadata": {},
   "source": [
    "## 7. More Conditions 🔍"
   ]
  },
  {
   "cell_type": "code",
   "metadata": {},
   "source": [
    "df = pd.DataFrame({\n",
    "    'name': ['Book', 'Pen', 'Laptop', 'Phone'],\n",
    "    'price': [50, 10, 120, 80],\n",
    "    'quantity': [5, 2, 10, 7]\n",
    "})\n",
    "print(\"Original DataFrame:\")\n",
    "print(df)\n",
    "\n",
    "# 1. price > 100\n",
    "print(\"\\nProducts where price > 100:\")\n",
    "print(df[df['price'] > 100])\n",
    "\n",
    "# 2. quantity is 5 or 10\n",
    "print(\"\\nProducts where quantity is 5 or 10:\")\n",
    "print(df[df['quantity'].isin([5, 10])])\n",
    "\n",
    "# 3. price between 50 and 80 (inclusive)\n",
    "print(\"\\nProducts where price is between 50 and 80:\")\n",
    "print(df[(df['price'] >= 50) & (df['price'] <= 80)])"
   ],
   "execution_count": null,
   "outputs": []
  },
  {
   "cell_type": "markdown",
   "metadata": {},
   "source": [
    "## 8. Drop Row / Column 🗑️"
   ]
  },
  {
   "cell_type": "code",
   "metadata": {},
   "source": [
    "df = pd.DataFrame({\n",
    "    'id': [1, 2, 3],\n",
    "    'name': ['Alice', 'Bob', 'Charlie'],\n",
    "    'department': ['HR', 'IT', 'Finance']\n",
    "})\n",
    "print(\"Original DataFrame:\")\n",
    "print(df)\n",
    "\n",
    "# 1. Drop first row\n",
    "dropped_row = df.drop(index=0)\n",
    "print(\"\\nAfter dropping first row:\")\n",
    "print(dropped_row)\n",
    "\n",
    "# 2. Drop 'department' column\n",
    "dropped_col = df.drop(columns='department')\n",
    "print(\"\\nAfter dropping 'department' column:\")\n",
    "print(dropped_col)"
   ],
   "execution_count": null,
   "outputs": []
  }
 ],
 "metadata": {
  "kernelspec": {
   "display_name": "Python 3",
   "language": "python",
   "name": "python3"
  },
  "language_info": {
   "name": "python"
  }
 },
 "nbformat": 4,
 "nbformat_minor": 2
}
